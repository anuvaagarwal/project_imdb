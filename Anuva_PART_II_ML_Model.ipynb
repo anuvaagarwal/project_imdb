{
  "nbformat": 4,
  "nbformat_minor": 0,
  "metadata": {
    "colab": {
      "provenance": [],
      "machine_shape": "hm",
      "authorship_tag": "ABX9TyMPiOGQPaVW1thvO80LJ2zE",
      "include_colab_link": true
    },
    "kernelspec": {
      "name": "python3",
      "display_name": "Python 3"
    },
    "language_info": {
      "name": "python"
    }
  },
  "cells": [
    {
      "cell_type": "markdown",
      "metadata": {
        "id": "view-in-github",
        "colab_type": "text"
      },
      "source": [
        "<a href=\"https://colab.research.google.com/github/anuvaagarwal/project_imdb/blob/main/Anuva_PART_II_ML_Model_Amazon_Audible.ipynb\" target=\"_parent\"><img src=\"https://colab.research.google.com/assets/colab-badge.svg\" alt=\"Open In Colab\"/></a>"
      ]
    },
    {
      "cell_type": "markdown",
      "source": [
        "# PART II - Model for IMDb Movie Ratings Prediction\n",
        "> Author: Anuva Agarwal\n",
        "\n",
        "(Part I consisting of the report and data pre-processing is in another file)\n",
        "\n"
      ],
      "metadata": {
        "id": "whXd2JqgsMCg"
      }
    },
    {
      "cell_type": "code",
      "execution_count": null,
      "metadata": {
        "id": "-_vGtRP05srv"
      },
      "outputs": [],
      "source": [
        "# Loading Libraries\n",
        "import pandas as pd\n",
        "from sklearn.model_selection import train_test_split\n",
        "from sklearn.linear_model import LinearRegression\n",
        "from sklearn.metrics import mean_squared_error, r2_score\n",
        "from sklearn.ensemble import RandomForestRegressor\n",
        "import xgboost as xgb\n",
        "\n",
        "from sklearn.linear_model import RidgeCV\n",
        "from sklearn.linear_model import LassoCV\n",
        "from sklearn.linear_model import Lasso\n",
        "from sklearn.model_selection import RandomizedSearchCV\n",
        "from sklearn.preprocessing import StandardScaler\n",
        "\n",
        "from matplotlib import pyplot as plt\n",
        "import numpy as np"
      ]
    },
    {
      "cell_type": "code",
      "source": [
        "from google.colab import drive\n",
        "drive.mount('/gdrive/')\n",
        "%cd /gdrive"
      ],
      "metadata": {
        "colab": {
          "base_uri": "https://localhost:8080/"
        },
        "id": "uvURUSFB6SHX",
        "outputId": "8b69b466-b84c-40e3-98ff-64bdec07da50"
      },
      "execution_count": null,
      "outputs": [
        {
          "output_type": "stream",
          "name": "stdout",
          "text": [
            "Mounted at /gdrive/\n",
            "/gdrive\n"
          ]
        }
      ]
    },
    {
      "cell_type": "code",
      "source": [
        "#Checking files in colab memory\n",
        "dir()"
      ],
      "metadata": {
        "id": "9UA6R5sghc1l"
      },
      "execution_count": null,
      "outputs": []
    },
    {
      "cell_type": "code",
      "source": [
        "!ls /gdrive/MyDrive/Datasets"
      ],
      "metadata": {
        "colab": {
          "base_uri": "https://localhost:8080/"
        },
        "id": "JWgDpLRE6Y2i",
        "outputId": "779e3646-87b4-437e-db53-fd71e404f896"
      },
      "execution_count": null,
      "outputs": [
        {
          "output_type": "stream",
          "name": "stdout",
          "text": [
            "df_movies_concatenated_no_encoded_profession.csv  one_hot_encoded_profession.csv\n",
            "df_movies.csv\t\t\t\t\t  title.akas.tsv.gz\n",
            "df_movies_final_clean.csv\t\t\t  title.basics.tsv.gz\n",
            "df_movies_final_concat.csv\t\t\t  title.crew.tsv.gz\n",
            "df_movies_master.csv\t\t\t\t  title.episode.tsv.gz\n",
            "df_split_professions.csv\t\t\t  title.principals.tsv.gz\n",
            "name.basics.tsv.gz\t\t\t\t  title.ratings.tsv.gz\n"
          ]
        }
      ]
    },
    {
      "cell_type": "markdown",
      "source": [
        "## Loading Data"
      ],
      "metadata": {
        "id": "9Tc1BucstFb3"
      }
    },
    {
      "cell_type": "code",
      "source": [
        "df_movie = pd.read_csv('/gdrive/MyDrive/Datasets/df_movies_final_clean.csv')"
      ],
      "metadata": {
        "id": "2Up-klDU6KuS"
      },
      "execution_count": null,
      "outputs": []
    },
    {
      "cell_type": "code",
      "source": [
        "display(df_movie.head(10), df_movie.shape)"
      ],
      "metadata": {
        "colab": {
          "base_uri": "https://localhost:8080/",
          "height": 447
        },
        "id": "3qPsUJMp7UAy",
        "outputId": "94c80f62-42e3-490f-d2ec-5a5b9694a77c"
      },
      "execution_count": null,
      "outputs": [
        {
          "output_type": "display_data",
          "data": {
            "text/plain": [
              "      tconst titleType  isAdult  startYear  movie_age  runtimeMinutes  \\\n",
              "0  tt0000001     short        0       1894        130             1.0   \n",
              "1  tt0000005     short        0       1893        131             1.0   \n",
              "2  tt0000006     short        0       1894        130             1.0   \n",
              "3  tt0000007     short        0       1894        130             1.0   \n",
              "4  tt0000008     short        0       1894        130             1.0   \n",
              "5  tt0000036     short        0       1896        128             1.0   \n",
              "6  tt0000076     short        0       1896        128             1.0   \n",
              "7  tt0000108     short        0       1896        128             1.0   \n",
              "8  tt0000109     short        0       1896        128             1.0   \n",
              "9  tt0000110     short        0       1896        128             1.0   \n",
              "\n",
              "   averageRating  numVotes  title_region_count  genre_Adult  ...  \\\n",
              "0            5.7      2034                 8.0            0  ...   \n",
              "1            6.2      2737                 8.0            0  ...   \n",
              "2            5.0       183                 6.0            0  ...   \n",
              "3            5.4       849                 7.0            0  ...   \n",
              "4            5.4      2179                 7.0            0  ...   \n",
              "5            4.4       620                 3.0            0  ...   \n",
              "6            4.5       550                 3.0            0  ...   \n",
              "7            4.4       559                 3.0            0  ...   \n",
              "8            4.5       540                 3.0            0  ...   \n",
              "9            4.4       546                 3.0            0  ...   \n",
              "\n",
              "   genre_Documentary  genre_Crime  genre_Musical  genre_Adventure  \\\n",
              "0                  1            0              0                0   \n",
              "1                  0            0              0                0   \n",
              "2                  0            0              0                0   \n",
              "3                  0            0              0                0   \n",
              "4                  1            0              0                0   \n",
              "5                  0            0              0                0   \n",
              "6                  0            0              0                0   \n",
              "7                  0            0              0                0   \n",
              "8                  0            0              0                0   \n",
              "9                  0            0              0                0   \n",
              "\n",
              "   genre_Music  genre_Thriller  genre_Game-Show  genre_Romance  genre_Mystery  \\\n",
              "0            0               0                0              0              0   \n",
              "1            0               0                0              0              0   \n",
              "2            0               0                0              0              0   \n",
              "3            0               0                0              0              0   \n",
              "4            0               0                0              0              0   \n",
              "5            0               0                0              0              0   \n",
              "6            0               0                0              0              0   \n",
              "7            0               0                0              0              0   \n",
              "8            0               0                0              0              0   \n",
              "9            0               0                0              0              0   \n",
              "\n",
              "   genre_Reality-TV  \n",
              "0                 0  \n",
              "1                 0  \n",
              "2                 0  \n",
              "3                 0  \n",
              "4                 0  \n",
              "5                 0  \n",
              "6                 0  \n",
              "7                 0  \n",
              "8                 0  \n",
              "9                 0  \n",
              "\n",
              "[10 rows x 37 columns]"
            ],
            "text/html": [
              "\n",
              "  <div id=\"df-52d5a4ba-8289-40fe-a664-d69ec52a7bde\" class=\"colab-df-container\">\n",
              "    <div>\n",
              "<style scoped>\n",
              "    .dataframe tbody tr th:only-of-type {\n",
              "        vertical-align: middle;\n",
              "    }\n",
              "\n",
              "    .dataframe tbody tr th {\n",
              "        vertical-align: top;\n",
              "    }\n",
              "\n",
              "    .dataframe thead th {\n",
              "        text-align: right;\n",
              "    }\n",
              "</style>\n",
              "<table border=\"1\" class=\"dataframe\">\n",
              "  <thead>\n",
              "    <tr style=\"text-align: right;\">\n",
              "      <th></th>\n",
              "      <th>tconst</th>\n",
              "      <th>titleType</th>\n",
              "      <th>isAdult</th>\n",
              "      <th>startYear</th>\n",
              "      <th>movie_age</th>\n",
              "      <th>runtimeMinutes</th>\n",
              "      <th>averageRating</th>\n",
              "      <th>numVotes</th>\n",
              "      <th>title_region_count</th>\n",
              "      <th>genre_Adult</th>\n",
              "      <th>...</th>\n",
              "      <th>genre_Documentary</th>\n",
              "      <th>genre_Crime</th>\n",
              "      <th>genre_Musical</th>\n",
              "      <th>genre_Adventure</th>\n",
              "      <th>genre_Music</th>\n",
              "      <th>genre_Thriller</th>\n",
              "      <th>genre_Game-Show</th>\n",
              "      <th>genre_Romance</th>\n",
              "      <th>genre_Mystery</th>\n",
              "      <th>genre_Reality-TV</th>\n",
              "    </tr>\n",
              "  </thead>\n",
              "  <tbody>\n",
              "    <tr>\n",
              "      <th>0</th>\n",
              "      <td>tt0000001</td>\n",
              "      <td>short</td>\n",
              "      <td>0</td>\n",
              "      <td>1894</td>\n",
              "      <td>130</td>\n",
              "      <td>1.0</td>\n",
              "      <td>5.7</td>\n",
              "      <td>2034</td>\n",
              "      <td>8.0</td>\n",
              "      <td>0</td>\n",
              "      <td>...</td>\n",
              "      <td>1</td>\n",
              "      <td>0</td>\n",
              "      <td>0</td>\n",
              "      <td>0</td>\n",
              "      <td>0</td>\n",
              "      <td>0</td>\n",
              "      <td>0</td>\n",
              "      <td>0</td>\n",
              "      <td>0</td>\n",
              "      <td>0</td>\n",
              "    </tr>\n",
              "    <tr>\n",
              "      <th>1</th>\n",
              "      <td>tt0000005</td>\n",
              "      <td>short</td>\n",
              "      <td>0</td>\n",
              "      <td>1893</td>\n",
              "      <td>131</td>\n",
              "      <td>1.0</td>\n",
              "      <td>6.2</td>\n",
              "      <td>2737</td>\n",
              "      <td>8.0</td>\n",
              "      <td>0</td>\n",
              "      <td>...</td>\n",
              "      <td>0</td>\n",
              "      <td>0</td>\n",
              "      <td>0</td>\n",
              "      <td>0</td>\n",
              "      <td>0</td>\n",
              "      <td>0</td>\n",
              "      <td>0</td>\n",
              "      <td>0</td>\n",
              "      <td>0</td>\n",
              "      <td>0</td>\n",
              "    </tr>\n",
              "    <tr>\n",
              "      <th>2</th>\n",
              "      <td>tt0000006</td>\n",
              "      <td>short</td>\n",
              "      <td>0</td>\n",
              "      <td>1894</td>\n",
              "      <td>130</td>\n",
              "      <td>1.0</td>\n",
              "      <td>5.0</td>\n",
              "      <td>183</td>\n",
              "      <td>6.0</td>\n",
              "      <td>0</td>\n",
              "      <td>...</td>\n",
              "      <td>0</td>\n",
              "      <td>0</td>\n",
              "      <td>0</td>\n",
              "      <td>0</td>\n",
              "      <td>0</td>\n",
              "      <td>0</td>\n",
              "      <td>0</td>\n",
              "      <td>0</td>\n",
              "      <td>0</td>\n",
              "      <td>0</td>\n",
              "    </tr>\n",
              "    <tr>\n",
              "      <th>3</th>\n",
              "      <td>tt0000007</td>\n",
              "      <td>short</td>\n",
              "      <td>0</td>\n",
              "      <td>1894</td>\n",
              "      <td>130</td>\n",
              "      <td>1.0</td>\n",
              "      <td>5.4</td>\n",
              "      <td>849</td>\n",
              "      <td>7.0</td>\n",
              "      <td>0</td>\n",
              "      <td>...</td>\n",
              "      <td>0</td>\n",
              "      <td>0</td>\n",
              "      <td>0</td>\n",
              "      <td>0</td>\n",
              "      <td>0</td>\n",
              "      <td>0</td>\n",
              "      <td>0</td>\n",
              "      <td>0</td>\n",
              "      <td>0</td>\n",
              "      <td>0</td>\n",
              "    </tr>\n",
              "    <tr>\n",
              "      <th>4</th>\n",
              "      <td>tt0000008</td>\n",
              "      <td>short</td>\n",
              "      <td>0</td>\n",
              "      <td>1894</td>\n",
              "      <td>130</td>\n",
              "      <td>1.0</td>\n",
              "      <td>5.4</td>\n",
              "      <td>2179</td>\n",
              "      <td>7.0</td>\n",
              "      <td>0</td>\n",
              "      <td>...</td>\n",
              "      <td>1</td>\n",
              "      <td>0</td>\n",
              "      <td>0</td>\n",
              "      <td>0</td>\n",
              "      <td>0</td>\n",
              "      <td>0</td>\n",
              "      <td>0</td>\n",
              "      <td>0</td>\n",
              "      <td>0</td>\n",
              "      <td>0</td>\n",
              "    </tr>\n",
              "    <tr>\n",
              "      <th>5</th>\n",
              "      <td>tt0000036</td>\n",
              "      <td>short</td>\n",
              "      <td>0</td>\n",
              "      <td>1896</td>\n",
              "      <td>128</td>\n",
              "      <td>1.0</td>\n",
              "      <td>4.4</td>\n",
              "      <td>620</td>\n",
              "      <td>3.0</td>\n",
              "      <td>0</td>\n",
              "      <td>...</td>\n",
              "      <td>0</td>\n",
              "      <td>0</td>\n",
              "      <td>0</td>\n",
              "      <td>0</td>\n",
              "      <td>0</td>\n",
              "      <td>0</td>\n",
              "      <td>0</td>\n",
              "      <td>0</td>\n",
              "      <td>0</td>\n",
              "      <td>0</td>\n",
              "    </tr>\n",
              "    <tr>\n",
              "      <th>6</th>\n",
              "      <td>tt0000076</td>\n",
              "      <td>short</td>\n",
              "      <td>0</td>\n",
              "      <td>1896</td>\n",
              "      <td>128</td>\n",
              "      <td>1.0</td>\n",
              "      <td>4.5</td>\n",
              "      <td>550</td>\n",
              "      <td>3.0</td>\n",
              "      <td>0</td>\n",
              "      <td>...</td>\n",
              "      <td>0</td>\n",
              "      <td>0</td>\n",
              "      <td>0</td>\n",
              "      <td>0</td>\n",
              "      <td>0</td>\n",
              "      <td>0</td>\n",
              "      <td>0</td>\n",
              "      <td>0</td>\n",
              "      <td>0</td>\n",
              "      <td>0</td>\n",
              "    </tr>\n",
              "    <tr>\n",
              "      <th>7</th>\n",
              "      <td>tt0000108</td>\n",
              "      <td>short</td>\n",
              "      <td>0</td>\n",
              "      <td>1896</td>\n",
              "      <td>128</td>\n",
              "      <td>1.0</td>\n",
              "      <td>4.4</td>\n",
              "      <td>559</td>\n",
              "      <td>3.0</td>\n",
              "      <td>0</td>\n",
              "      <td>...</td>\n",
              "      <td>0</td>\n",
              "      <td>0</td>\n",
              "      <td>0</td>\n",
              "      <td>0</td>\n",
              "      <td>0</td>\n",
              "      <td>0</td>\n",
              "      <td>0</td>\n",
              "      <td>0</td>\n",
              "      <td>0</td>\n",
              "      <td>0</td>\n",
              "    </tr>\n",
              "    <tr>\n",
              "      <th>8</th>\n",
              "      <td>tt0000109</td>\n",
              "      <td>short</td>\n",
              "      <td>0</td>\n",
              "      <td>1896</td>\n",
              "      <td>128</td>\n",
              "      <td>1.0</td>\n",
              "      <td>4.5</td>\n",
              "      <td>540</td>\n",
              "      <td>3.0</td>\n",
              "      <td>0</td>\n",
              "      <td>...</td>\n",
              "      <td>0</td>\n",
              "      <td>0</td>\n",
              "      <td>0</td>\n",
              "      <td>0</td>\n",
              "      <td>0</td>\n",
              "      <td>0</td>\n",
              "      <td>0</td>\n",
              "      <td>0</td>\n",
              "      <td>0</td>\n",
              "      <td>0</td>\n",
              "    </tr>\n",
              "    <tr>\n",
              "      <th>9</th>\n",
              "      <td>tt0000110</td>\n",
              "      <td>short</td>\n",
              "      <td>0</td>\n",
              "      <td>1896</td>\n",
              "      <td>128</td>\n",
              "      <td>1.0</td>\n",
              "      <td>4.4</td>\n",
              "      <td>546</td>\n",
              "      <td>3.0</td>\n",
              "      <td>0</td>\n",
              "      <td>...</td>\n",
              "      <td>0</td>\n",
              "      <td>0</td>\n",
              "      <td>0</td>\n",
              "      <td>0</td>\n",
              "      <td>0</td>\n",
              "      <td>0</td>\n",
              "      <td>0</td>\n",
              "      <td>0</td>\n",
              "      <td>0</td>\n",
              "      <td>0</td>\n",
              "    </tr>\n",
              "  </tbody>\n",
              "</table>\n",
              "<p>10 rows × 37 columns</p>\n",
              "</div>\n",
              "    <div class=\"colab-df-buttons\">\n",
              "\n",
              "  <div class=\"colab-df-container\">\n",
              "    <button class=\"colab-df-convert\" onclick=\"convertToInteractive('df-52d5a4ba-8289-40fe-a664-d69ec52a7bde')\"\n",
              "            title=\"Convert this dataframe to an interactive table.\"\n",
              "            style=\"display:none;\">\n",
              "\n",
              "  <svg xmlns=\"http://www.w3.org/2000/svg\" height=\"24px\" viewBox=\"0 -960 960 960\">\n",
              "    <path d=\"M120-120v-720h720v720H120Zm60-500h600v-160H180v160Zm220 220h160v-160H400v160Zm0 220h160v-160H400v160ZM180-400h160v-160H180v160Zm440 0h160v-160H620v160ZM180-180h160v-160H180v160Zm440 0h160v-160H620v160Z\"/>\n",
              "  </svg>\n",
              "    </button>\n",
              "\n",
              "  <style>\n",
              "    .colab-df-container {\n",
              "      display:flex;\n",
              "      gap: 12px;\n",
              "    }\n",
              "\n",
              "    .colab-df-convert {\n",
              "      background-color: #E8F0FE;\n",
              "      border: none;\n",
              "      border-radius: 50%;\n",
              "      cursor: pointer;\n",
              "      display: none;\n",
              "      fill: #1967D2;\n",
              "      height: 32px;\n",
              "      padding: 0 0 0 0;\n",
              "      width: 32px;\n",
              "    }\n",
              "\n",
              "    .colab-df-convert:hover {\n",
              "      background-color: #E2EBFA;\n",
              "      box-shadow: 0px 1px 2px rgba(60, 64, 67, 0.3), 0px 1px 3px 1px rgba(60, 64, 67, 0.15);\n",
              "      fill: #174EA6;\n",
              "    }\n",
              "\n",
              "    .colab-df-buttons div {\n",
              "      margin-bottom: 4px;\n",
              "    }\n",
              "\n",
              "    [theme=dark] .colab-df-convert {\n",
              "      background-color: #3B4455;\n",
              "      fill: #D2E3FC;\n",
              "    }\n",
              "\n",
              "    [theme=dark] .colab-df-convert:hover {\n",
              "      background-color: #434B5C;\n",
              "      box-shadow: 0px 1px 3px 1px rgba(0, 0, 0, 0.15);\n",
              "      filter: drop-shadow(0px 1px 2px rgba(0, 0, 0, 0.3));\n",
              "      fill: #FFFFFF;\n",
              "    }\n",
              "  </style>\n",
              "\n",
              "    <script>\n",
              "      const buttonEl =\n",
              "        document.querySelector('#df-52d5a4ba-8289-40fe-a664-d69ec52a7bde button.colab-df-convert');\n",
              "      buttonEl.style.display =\n",
              "        google.colab.kernel.accessAllowed ? 'block' : 'none';\n",
              "\n",
              "      async function convertToInteractive(key) {\n",
              "        const element = document.querySelector('#df-52d5a4ba-8289-40fe-a664-d69ec52a7bde');\n",
              "        const dataTable =\n",
              "          await google.colab.kernel.invokeFunction('convertToInteractive',\n",
              "                                                    [key], {});\n",
              "        if (!dataTable) return;\n",
              "\n",
              "        const docLinkHtml = 'Like what you see? Visit the ' +\n",
              "          '<a target=\"_blank\" href=https://colab.research.google.com/notebooks/data_table.ipynb>data table notebook</a>'\n",
              "          + ' to learn more about interactive tables.';\n",
              "        element.innerHTML = '';\n",
              "        dataTable['output_type'] = 'display_data';\n",
              "        await google.colab.output.renderOutput(dataTable, element);\n",
              "        const docLink = document.createElement('div');\n",
              "        docLink.innerHTML = docLinkHtml;\n",
              "        element.appendChild(docLink);\n",
              "      }\n",
              "    </script>\n",
              "  </div>\n",
              "\n",
              "\n",
              "<div id=\"df-aba85389-3ce6-46a0-9497-27833f838040\">\n",
              "  <button class=\"colab-df-quickchart\" onclick=\"quickchart('df-aba85389-3ce6-46a0-9497-27833f838040')\"\n",
              "            title=\"Suggest charts\"\n",
              "            style=\"display:none;\">\n",
              "\n",
              "<svg xmlns=\"http://www.w3.org/2000/svg\" height=\"24px\"viewBox=\"0 0 24 24\"\n",
              "     width=\"24px\">\n",
              "    <g>\n",
              "        <path d=\"M19 3H5c-1.1 0-2 .9-2 2v14c0 1.1.9 2 2 2h14c1.1 0 2-.9 2-2V5c0-1.1-.9-2-2-2zM9 17H7v-7h2v7zm4 0h-2V7h2v10zm4 0h-2v-4h2v4z\"/>\n",
              "    </g>\n",
              "</svg>\n",
              "  </button>\n",
              "\n",
              "<style>\n",
              "  .colab-df-quickchart {\n",
              "      --bg-color: #E8F0FE;\n",
              "      --fill-color: #1967D2;\n",
              "      --hover-bg-color: #E2EBFA;\n",
              "      --hover-fill-color: #174EA6;\n",
              "      --disabled-fill-color: #AAA;\n",
              "      --disabled-bg-color: #DDD;\n",
              "  }\n",
              "\n",
              "  [theme=dark] .colab-df-quickchart {\n",
              "      --bg-color: #3B4455;\n",
              "      --fill-color: #D2E3FC;\n",
              "      --hover-bg-color: #434B5C;\n",
              "      --hover-fill-color: #FFFFFF;\n",
              "      --disabled-bg-color: #3B4455;\n",
              "      --disabled-fill-color: #666;\n",
              "  }\n",
              "\n",
              "  .colab-df-quickchart {\n",
              "    background-color: var(--bg-color);\n",
              "    border: none;\n",
              "    border-radius: 50%;\n",
              "    cursor: pointer;\n",
              "    display: none;\n",
              "    fill: var(--fill-color);\n",
              "    height: 32px;\n",
              "    padding: 0;\n",
              "    width: 32px;\n",
              "  }\n",
              "\n",
              "  .colab-df-quickchart:hover {\n",
              "    background-color: var(--hover-bg-color);\n",
              "    box-shadow: 0 1px 2px rgba(60, 64, 67, 0.3), 0 1px 3px 1px rgba(60, 64, 67, 0.15);\n",
              "    fill: var(--button-hover-fill-color);\n",
              "  }\n",
              "\n",
              "  .colab-df-quickchart-complete:disabled,\n",
              "  .colab-df-quickchart-complete:disabled:hover {\n",
              "    background-color: var(--disabled-bg-color);\n",
              "    fill: var(--disabled-fill-color);\n",
              "    box-shadow: none;\n",
              "  }\n",
              "\n",
              "  .colab-df-spinner {\n",
              "    border: 2px solid var(--fill-color);\n",
              "    border-color: transparent;\n",
              "    border-bottom-color: var(--fill-color);\n",
              "    animation:\n",
              "      spin 1s steps(1) infinite;\n",
              "  }\n",
              "\n",
              "  @keyframes spin {\n",
              "    0% {\n",
              "      border-color: transparent;\n",
              "      border-bottom-color: var(--fill-color);\n",
              "      border-left-color: var(--fill-color);\n",
              "    }\n",
              "    20% {\n",
              "      border-color: transparent;\n",
              "      border-left-color: var(--fill-color);\n",
              "      border-top-color: var(--fill-color);\n",
              "    }\n",
              "    30% {\n",
              "      border-color: transparent;\n",
              "      border-left-color: var(--fill-color);\n",
              "      border-top-color: var(--fill-color);\n",
              "      border-right-color: var(--fill-color);\n",
              "    }\n",
              "    40% {\n",
              "      border-color: transparent;\n",
              "      border-right-color: var(--fill-color);\n",
              "      border-top-color: var(--fill-color);\n",
              "    }\n",
              "    60% {\n",
              "      border-color: transparent;\n",
              "      border-right-color: var(--fill-color);\n",
              "    }\n",
              "    80% {\n",
              "      border-color: transparent;\n",
              "      border-right-color: var(--fill-color);\n",
              "      border-bottom-color: var(--fill-color);\n",
              "    }\n",
              "    90% {\n",
              "      border-color: transparent;\n",
              "      border-bottom-color: var(--fill-color);\n",
              "    }\n",
              "  }\n",
              "</style>\n",
              "\n",
              "  <script>\n",
              "    async function quickchart(key) {\n",
              "      const quickchartButtonEl =\n",
              "        document.querySelector('#' + key + ' button');\n",
              "      quickchartButtonEl.disabled = true;  // To prevent multiple clicks.\n",
              "      quickchartButtonEl.classList.add('colab-df-spinner');\n",
              "      try {\n",
              "        const charts = await google.colab.kernel.invokeFunction(\n",
              "            'suggestCharts', [key], {});\n",
              "      } catch (error) {\n",
              "        console.error('Error during call to suggestCharts:', error);\n",
              "      }\n",
              "      quickchartButtonEl.classList.remove('colab-df-spinner');\n",
              "      quickchartButtonEl.classList.add('colab-df-quickchart-complete');\n",
              "    }\n",
              "    (() => {\n",
              "      let quickchartButtonEl =\n",
              "        document.querySelector('#df-aba85389-3ce6-46a0-9497-27833f838040 button');\n",
              "      quickchartButtonEl.style.display =\n",
              "        google.colab.kernel.accessAllowed ? 'block' : 'none';\n",
              "    })();\n",
              "  </script>\n",
              "</div>\n",
              "\n",
              "    </div>\n",
              "  </div>\n"
            ],
            "application/vnd.google.colaboratory.intrinsic+json": {
              "type": "dataframe"
            }
          },
          "metadata": {}
        },
        {
          "output_type": "display_data",
          "data": {
            "text/plain": [
              "(995285, 37)"
            ]
          },
          "metadata": {}
        }
      ]
    },
    {
      "cell_type": "code",
      "source": [
        "df_movie.columns"
      ],
      "metadata": {
        "colab": {
          "base_uri": "https://localhost:8080/"
        },
        "id": "14EO46Qr8izH",
        "outputId": "d69b9849-abe4-4660-e8e0-466fe76124ee"
      },
      "execution_count": null,
      "outputs": [
        {
          "output_type": "execute_result",
          "data": {
            "text/plain": [
              "Index(['tconst', 'titleType', 'isAdult', 'startYear', 'runtimeMinutes',\n",
              "       'averageRating', 'numVotes', 'title_region_count', 'genre_Adult',\n",
              "       'genre_Biography', 'genre_Action', 'genre_Film-Noir', 'genre_Animation',\n",
              "       'genre_Talk-Show', 'genre_Comedy', 'genre_Horror', 'genre_Sport',\n",
              "       'genre_Fantasy', 'genre_History', 'genre_News', 'genre_War',\n",
              "       'genre_Family', 'genre_Western', 'genre_Sci-Fi', 'genre_Drama',\n",
              "       'genre_Short', 'genre_Documentary', 'genre_Crime', 'genre_Musical',\n",
              "       'genre_Adventure', 'genre_Music', 'genre_Thriller', 'genre_Game-Show',\n",
              "       'genre_Romance', 'genre_Mystery', 'genre_Reality-TV'],\n",
              "      dtype='object')"
            ]
          },
          "metadata": {},
          "execution_count": 10
        }
      ]
    },
    {
      "cell_type": "code",
      "source": [
        "df_movie['runtimeMinutes'].value_counts()"
      ],
      "metadata": {
        "colab": {
          "base_uri": "https://localhost:8080/"
        },
        "id": "-8kUZuxYEgCu",
        "outputId": "25f19112-fdfc-4d4e-c9f2-da1ed8d04904"
      },
      "execution_count": null,
      "outputs": [
        {
          "output_type": "execute_result",
          "data": {
            "text/plain": [
              "30.0       47015\n",
              "60.0       41413\n",
              "22.0       39017\n",
              "90.0       30223\n",
              "24.0       28932\n",
              "           ...  \n",
              "1143.0         1\n",
              "712.0          1\n",
              "924.0          1\n",
              "406.0          1\n",
              "51420.0        1\n",
              "Name: runtimeMinutes, Length: 802, dtype: int64"
            ]
          },
          "metadata": {},
          "execution_count": 22
        }
      ]
    },
    {
      "cell_type": "code",
      "source": [
        "print(\"Number of movies/titles with runtime more than 1000 minutes\", df_movie[df_movie['runtimeMinutes'] > 300].shape[0])\n",
        "print(\"Number of movies/titles with runtime less than 10 minutes\", df_movie[df_movie['runtimeMinutes'] < 10].shape[0])"
      ],
      "metadata": {
        "colab": {
          "base_uri": "https://localhost:8080/"
        },
        "id": "F3h45PSKHT_i",
        "outputId": "93e1ecc1-475d-449c-e3b9-403543b6d7e6"
      },
      "execution_count": null,
      "outputs": [
        {
          "output_type": "stream",
          "name": "stdout",
          "text": [
            "Number of movies/titles with runtime more than 1000 minutes 2114\n",
            "Number of movies/titles with runtime less than 10 minutes 70283\n"
          ]
        }
      ]
    },
    {
      "cell_type": "code",
      "source": [
        "df_movie[df_movie['runtimeMinutes'] < 10].groupby('titleType').count()\n",
        "\n",
        "# Majority of the films of duration less than 10minutes are tv episodes or short films (#49307), with short films forming ~70% of that number."
      ],
      "metadata": {
        "colab": {
          "base_uri": "https://localhost:8080/",
          "height": 461
        },
        "id": "Szu10FBBHwmb",
        "outputId": "1d0ee221-1062-4ff0-8e22-5ec053a1844e"
      },
      "execution_count": null,
      "outputs": [
        {
          "output_type": "execute_result",
          "data": {
            "text/plain": [
              "              tconst  isAdult  startYear  movie_age  runtimeMinutes  \\\n",
              "titleType                                                             \n",
              "movie             11       11         11         11              11   \n",
              "short          49307    49307      49307      49307           49307   \n",
              "tvEpisode      11763    11763      11763      11763           11763   \n",
              "tvMiniSeries     420      420        420        420             420   \n",
              "tvMovie           17       17         17         17              17   \n",
              "tvSeries        2065     2065       2065       2065            2065   \n",
              "tvShort          830      830        830        830             830   \n",
              "tvSpecial         42       42         42         42              42   \n",
              "video           5821     5821       5821       5821            5821   \n",
              "videoGame          7        7          7          7               7   \n",
              "\n",
              "              averageRating  numVotes  title_region_count  genre_Adult  \\\n",
              "titleType                                                                \n",
              "movie                    11        11                  11           11   \n",
              "short                 49307     49307               48995        49307   \n",
              "tvEpisode             11763     11763                4445        11763   \n",
              "tvMiniSeries            420       420                 418          420   \n",
              "tvMovie                  17        17                  17           17   \n",
              "tvSeries               2065      2065                2048         2065   \n",
              "tvShort                 830       830                 826          830   \n",
              "tvSpecial                42        42                  42           42   \n",
              "video                  5821      5821                5729         5821   \n",
              "videoGame                 7         7                   7            7   \n",
              "\n",
              "              genre_Biography  ...  genre_Documentary  genre_Crime  \\\n",
              "titleType                      ...                                   \n",
              "movie                      11  ...                 11           11   \n",
              "short                   49307  ...              49307        49307   \n",
              "tvEpisode               11763  ...              11763        11763   \n",
              "tvMiniSeries              420  ...                420          420   \n",
              "tvMovie                    17  ...                 17           17   \n",
              "tvSeries                 2065  ...               2065         2065   \n",
              "tvShort                   830  ...                830          830   \n",
              "tvSpecial                  42  ...                 42           42   \n",
              "video                    5821  ...               5821         5821   \n",
              "videoGame                   7  ...                  7            7   \n",
              "\n",
              "              genre_Musical  genre_Adventure  genre_Music  genre_Thriller  \\\n",
              "titleType                                                                   \n",
              "movie                    11               11           11              11   \n",
              "short                 49307            49307        49307           49307   \n",
              "tvEpisode             11763            11763        11763           11763   \n",
              "tvMiniSeries            420              420          420             420   \n",
              "tvMovie                  17               17           17              17   \n",
              "tvSeries               2065             2065         2065            2065   \n",
              "tvShort                 830              830          830             830   \n",
              "tvSpecial                42               42           42              42   \n",
              "video                  5821             5821         5821            5821   \n",
              "videoGame                 7                7            7               7   \n",
              "\n",
              "              genre_Game-Show  genre_Romance  genre_Mystery  genre_Reality-TV  \n",
              "titleType                                                                      \n",
              "movie                      11             11             11                11  \n",
              "short                   49307          49307          49307             49307  \n",
              "tvEpisode               11763          11763          11763             11763  \n",
              "tvMiniSeries              420            420            420               420  \n",
              "tvMovie                    17             17             17                17  \n",
              "tvSeries                 2065           2065           2065              2065  \n",
              "tvShort                   830            830            830               830  \n",
              "tvSpecial                  42             42             42                42  \n",
              "video                    5821           5821           5821              5821  \n",
              "videoGame                   7              7              7                 7  \n",
              "\n",
              "[10 rows x 36 columns]"
            ],
            "text/html": [
              "\n",
              "  <div id=\"df-de71a3a0-9e4d-4240-808b-8923e5e777c8\" class=\"colab-df-container\">\n",
              "    <div>\n",
              "<style scoped>\n",
              "    .dataframe tbody tr th:only-of-type {\n",
              "        vertical-align: middle;\n",
              "    }\n",
              "\n",
              "    .dataframe tbody tr th {\n",
              "        vertical-align: top;\n",
              "    }\n",
              "\n",
              "    .dataframe thead th {\n",
              "        text-align: right;\n",
              "    }\n",
              "</style>\n",
              "<table border=\"1\" class=\"dataframe\">\n",
              "  <thead>\n",
              "    <tr style=\"text-align: right;\">\n",
              "      <th></th>\n",
              "      <th>tconst</th>\n",
              "      <th>isAdult</th>\n",
              "      <th>startYear</th>\n",
              "      <th>movie_age</th>\n",
              "      <th>runtimeMinutes</th>\n",
              "      <th>averageRating</th>\n",
              "      <th>numVotes</th>\n",
              "      <th>title_region_count</th>\n",
              "      <th>genre_Adult</th>\n",
              "      <th>genre_Biography</th>\n",
              "      <th>...</th>\n",
              "      <th>genre_Documentary</th>\n",
              "      <th>genre_Crime</th>\n",
              "      <th>genre_Musical</th>\n",
              "      <th>genre_Adventure</th>\n",
              "      <th>genre_Music</th>\n",
              "      <th>genre_Thriller</th>\n",
              "      <th>genre_Game-Show</th>\n",
              "      <th>genre_Romance</th>\n",
              "      <th>genre_Mystery</th>\n",
              "      <th>genre_Reality-TV</th>\n",
              "    </tr>\n",
              "    <tr>\n",
              "      <th>titleType</th>\n",
              "      <th></th>\n",
              "      <th></th>\n",
              "      <th></th>\n",
              "      <th></th>\n",
              "      <th></th>\n",
              "      <th></th>\n",
              "      <th></th>\n",
              "      <th></th>\n",
              "      <th></th>\n",
              "      <th></th>\n",
              "      <th></th>\n",
              "      <th></th>\n",
              "      <th></th>\n",
              "      <th></th>\n",
              "      <th></th>\n",
              "      <th></th>\n",
              "      <th></th>\n",
              "      <th></th>\n",
              "      <th></th>\n",
              "      <th></th>\n",
              "      <th></th>\n",
              "    </tr>\n",
              "  </thead>\n",
              "  <tbody>\n",
              "    <tr>\n",
              "      <th>movie</th>\n",
              "      <td>11</td>\n",
              "      <td>11</td>\n",
              "      <td>11</td>\n",
              "      <td>11</td>\n",
              "      <td>11</td>\n",
              "      <td>11</td>\n",
              "      <td>11</td>\n",
              "      <td>11</td>\n",
              "      <td>11</td>\n",
              "      <td>11</td>\n",
              "      <td>...</td>\n",
              "      <td>11</td>\n",
              "      <td>11</td>\n",
              "      <td>11</td>\n",
              "      <td>11</td>\n",
              "      <td>11</td>\n",
              "      <td>11</td>\n",
              "      <td>11</td>\n",
              "      <td>11</td>\n",
              "      <td>11</td>\n",
              "      <td>11</td>\n",
              "    </tr>\n",
              "    <tr>\n",
              "      <th>short</th>\n",
              "      <td>49307</td>\n",
              "      <td>49307</td>\n",
              "      <td>49307</td>\n",
              "      <td>49307</td>\n",
              "      <td>49307</td>\n",
              "      <td>49307</td>\n",
              "      <td>49307</td>\n",
              "      <td>48995</td>\n",
              "      <td>49307</td>\n",
              "      <td>49307</td>\n",
              "      <td>...</td>\n",
              "      <td>49307</td>\n",
              "      <td>49307</td>\n",
              "      <td>49307</td>\n",
              "      <td>49307</td>\n",
              "      <td>49307</td>\n",
              "      <td>49307</td>\n",
              "      <td>49307</td>\n",
              "      <td>49307</td>\n",
              "      <td>49307</td>\n",
              "      <td>49307</td>\n",
              "    </tr>\n",
              "    <tr>\n",
              "      <th>tvEpisode</th>\n",
              "      <td>11763</td>\n",
              "      <td>11763</td>\n",
              "      <td>11763</td>\n",
              "      <td>11763</td>\n",
              "      <td>11763</td>\n",
              "      <td>11763</td>\n",
              "      <td>11763</td>\n",
              "      <td>4445</td>\n",
              "      <td>11763</td>\n",
              "      <td>11763</td>\n",
              "      <td>...</td>\n",
              "      <td>11763</td>\n",
              "      <td>11763</td>\n",
              "      <td>11763</td>\n",
              "      <td>11763</td>\n",
              "      <td>11763</td>\n",
              "      <td>11763</td>\n",
              "      <td>11763</td>\n",
              "      <td>11763</td>\n",
              "      <td>11763</td>\n",
              "      <td>11763</td>\n",
              "    </tr>\n",
              "    <tr>\n",
              "      <th>tvMiniSeries</th>\n",
              "      <td>420</td>\n",
              "      <td>420</td>\n",
              "      <td>420</td>\n",
              "      <td>420</td>\n",
              "      <td>420</td>\n",
              "      <td>420</td>\n",
              "      <td>420</td>\n",
              "      <td>418</td>\n",
              "      <td>420</td>\n",
              "      <td>420</td>\n",
              "      <td>...</td>\n",
              "      <td>420</td>\n",
              "      <td>420</td>\n",
              "      <td>420</td>\n",
              "      <td>420</td>\n",
              "      <td>420</td>\n",
              "      <td>420</td>\n",
              "      <td>420</td>\n",
              "      <td>420</td>\n",
              "      <td>420</td>\n",
              "      <td>420</td>\n",
              "    </tr>\n",
              "    <tr>\n",
              "      <th>tvMovie</th>\n",
              "      <td>17</td>\n",
              "      <td>17</td>\n",
              "      <td>17</td>\n",
              "      <td>17</td>\n",
              "      <td>17</td>\n",
              "      <td>17</td>\n",
              "      <td>17</td>\n",
              "      <td>17</td>\n",
              "      <td>17</td>\n",
              "      <td>17</td>\n",
              "      <td>...</td>\n",
              "      <td>17</td>\n",
              "      <td>17</td>\n",
              "      <td>17</td>\n",
              "      <td>17</td>\n",
              "      <td>17</td>\n",
              "      <td>17</td>\n",
              "      <td>17</td>\n",
              "      <td>17</td>\n",
              "      <td>17</td>\n",
              "      <td>17</td>\n",
              "    </tr>\n",
              "    <tr>\n",
              "      <th>tvSeries</th>\n",
              "      <td>2065</td>\n",
              "      <td>2065</td>\n",
              "      <td>2065</td>\n",
              "      <td>2065</td>\n",
              "      <td>2065</td>\n",
              "      <td>2065</td>\n",
              "      <td>2065</td>\n",
              "      <td>2048</td>\n",
              "      <td>2065</td>\n",
              "      <td>2065</td>\n",
              "      <td>...</td>\n",
              "      <td>2065</td>\n",
              "      <td>2065</td>\n",
              "      <td>2065</td>\n",
              "      <td>2065</td>\n",
              "      <td>2065</td>\n",
              "      <td>2065</td>\n",
              "      <td>2065</td>\n",
              "      <td>2065</td>\n",
              "      <td>2065</td>\n",
              "      <td>2065</td>\n",
              "    </tr>\n",
              "    <tr>\n",
              "      <th>tvShort</th>\n",
              "      <td>830</td>\n",
              "      <td>830</td>\n",
              "      <td>830</td>\n",
              "      <td>830</td>\n",
              "      <td>830</td>\n",
              "      <td>830</td>\n",
              "      <td>830</td>\n",
              "      <td>826</td>\n",
              "      <td>830</td>\n",
              "      <td>830</td>\n",
              "      <td>...</td>\n",
              "      <td>830</td>\n",
              "      <td>830</td>\n",
              "      <td>830</td>\n",
              "      <td>830</td>\n",
              "      <td>830</td>\n",
              "      <td>830</td>\n",
              "      <td>830</td>\n",
              "      <td>830</td>\n",
              "      <td>830</td>\n",
              "      <td>830</td>\n",
              "    </tr>\n",
              "    <tr>\n",
              "      <th>tvSpecial</th>\n",
              "      <td>42</td>\n",
              "      <td>42</td>\n",
              "      <td>42</td>\n",
              "      <td>42</td>\n",
              "      <td>42</td>\n",
              "      <td>42</td>\n",
              "      <td>42</td>\n",
              "      <td>42</td>\n",
              "      <td>42</td>\n",
              "      <td>42</td>\n",
              "      <td>...</td>\n",
              "      <td>42</td>\n",
              "      <td>42</td>\n",
              "      <td>42</td>\n",
              "      <td>42</td>\n",
              "      <td>42</td>\n",
              "      <td>42</td>\n",
              "      <td>42</td>\n",
              "      <td>42</td>\n",
              "      <td>42</td>\n",
              "      <td>42</td>\n",
              "    </tr>\n",
              "    <tr>\n",
              "      <th>video</th>\n",
              "      <td>5821</td>\n",
              "      <td>5821</td>\n",
              "      <td>5821</td>\n",
              "      <td>5821</td>\n",
              "      <td>5821</td>\n",
              "      <td>5821</td>\n",
              "      <td>5821</td>\n",
              "      <td>5729</td>\n",
              "      <td>5821</td>\n",
              "      <td>5821</td>\n",
              "      <td>...</td>\n",
              "      <td>5821</td>\n",
              "      <td>5821</td>\n",
              "      <td>5821</td>\n",
              "      <td>5821</td>\n",
              "      <td>5821</td>\n",
              "      <td>5821</td>\n",
              "      <td>5821</td>\n",
              "      <td>5821</td>\n",
              "      <td>5821</td>\n",
              "      <td>5821</td>\n",
              "    </tr>\n",
              "    <tr>\n",
              "      <th>videoGame</th>\n",
              "      <td>7</td>\n",
              "      <td>7</td>\n",
              "      <td>7</td>\n",
              "      <td>7</td>\n",
              "      <td>7</td>\n",
              "      <td>7</td>\n",
              "      <td>7</td>\n",
              "      <td>7</td>\n",
              "      <td>7</td>\n",
              "      <td>7</td>\n",
              "      <td>...</td>\n",
              "      <td>7</td>\n",
              "      <td>7</td>\n",
              "      <td>7</td>\n",
              "      <td>7</td>\n",
              "      <td>7</td>\n",
              "      <td>7</td>\n",
              "      <td>7</td>\n",
              "      <td>7</td>\n",
              "      <td>7</td>\n",
              "      <td>7</td>\n",
              "    </tr>\n",
              "  </tbody>\n",
              "</table>\n",
              "<p>10 rows × 36 columns</p>\n",
              "</div>\n",
              "    <div class=\"colab-df-buttons\">\n",
              "\n",
              "  <div class=\"colab-df-container\">\n",
              "    <button class=\"colab-df-convert\" onclick=\"convertToInteractive('df-de71a3a0-9e4d-4240-808b-8923e5e777c8')\"\n",
              "            title=\"Convert this dataframe to an interactive table.\"\n",
              "            style=\"display:none;\">\n",
              "\n",
              "  <svg xmlns=\"http://www.w3.org/2000/svg\" height=\"24px\" viewBox=\"0 -960 960 960\">\n",
              "    <path d=\"M120-120v-720h720v720H120Zm60-500h600v-160H180v160Zm220 220h160v-160H400v160Zm0 220h160v-160H400v160ZM180-400h160v-160H180v160Zm440 0h160v-160H620v160ZM180-180h160v-160H180v160Zm440 0h160v-160H620v160Z\"/>\n",
              "  </svg>\n",
              "    </button>\n",
              "\n",
              "  <style>\n",
              "    .colab-df-container {\n",
              "      display:flex;\n",
              "      gap: 12px;\n",
              "    }\n",
              "\n",
              "    .colab-df-convert {\n",
              "      background-color: #E8F0FE;\n",
              "      border: none;\n",
              "      border-radius: 50%;\n",
              "      cursor: pointer;\n",
              "      display: none;\n",
              "      fill: #1967D2;\n",
              "      height: 32px;\n",
              "      padding: 0 0 0 0;\n",
              "      width: 32px;\n",
              "    }\n",
              "\n",
              "    .colab-df-convert:hover {\n",
              "      background-color: #E2EBFA;\n",
              "      box-shadow: 0px 1px 2px rgba(60, 64, 67, 0.3), 0px 1px 3px 1px rgba(60, 64, 67, 0.15);\n",
              "      fill: #174EA6;\n",
              "    }\n",
              "\n",
              "    .colab-df-buttons div {\n",
              "      margin-bottom: 4px;\n",
              "    }\n",
              "\n",
              "    [theme=dark] .colab-df-convert {\n",
              "      background-color: #3B4455;\n",
              "      fill: #D2E3FC;\n",
              "    }\n",
              "\n",
              "    [theme=dark] .colab-df-convert:hover {\n",
              "      background-color: #434B5C;\n",
              "      box-shadow: 0px 1px 3px 1px rgba(0, 0, 0, 0.15);\n",
              "      filter: drop-shadow(0px 1px 2px rgba(0, 0, 0, 0.3));\n",
              "      fill: #FFFFFF;\n",
              "    }\n",
              "  </style>\n",
              "\n",
              "    <script>\n",
              "      const buttonEl =\n",
              "        document.querySelector('#df-de71a3a0-9e4d-4240-808b-8923e5e777c8 button.colab-df-convert');\n",
              "      buttonEl.style.display =\n",
              "        google.colab.kernel.accessAllowed ? 'block' : 'none';\n",
              "\n",
              "      async function convertToInteractive(key) {\n",
              "        const element = document.querySelector('#df-de71a3a0-9e4d-4240-808b-8923e5e777c8');\n",
              "        const dataTable =\n",
              "          await google.colab.kernel.invokeFunction('convertToInteractive',\n",
              "                                                    [key], {});\n",
              "        if (!dataTable) return;\n",
              "\n",
              "        const docLinkHtml = 'Like what you see? Visit the ' +\n",
              "          '<a target=\"_blank\" href=https://colab.research.google.com/notebooks/data_table.ipynb>data table notebook</a>'\n",
              "          + ' to learn more about interactive tables.';\n",
              "        element.innerHTML = '';\n",
              "        dataTable['output_type'] = 'display_data';\n",
              "        await google.colab.output.renderOutput(dataTable, element);\n",
              "        const docLink = document.createElement('div');\n",
              "        docLink.innerHTML = docLinkHtml;\n",
              "        element.appendChild(docLink);\n",
              "      }\n",
              "    </script>\n",
              "  </div>\n",
              "\n",
              "\n",
              "<div id=\"df-f61ec420-ce69-48ac-aceb-95dbae596dae\">\n",
              "  <button class=\"colab-df-quickchart\" onclick=\"quickchart('df-f61ec420-ce69-48ac-aceb-95dbae596dae')\"\n",
              "            title=\"Suggest charts\"\n",
              "            style=\"display:none;\">\n",
              "\n",
              "<svg xmlns=\"http://www.w3.org/2000/svg\" height=\"24px\"viewBox=\"0 0 24 24\"\n",
              "     width=\"24px\">\n",
              "    <g>\n",
              "        <path d=\"M19 3H5c-1.1 0-2 .9-2 2v14c0 1.1.9 2 2 2h14c1.1 0 2-.9 2-2V5c0-1.1-.9-2-2-2zM9 17H7v-7h2v7zm4 0h-2V7h2v10zm4 0h-2v-4h2v4z\"/>\n",
              "    </g>\n",
              "</svg>\n",
              "  </button>\n",
              "\n",
              "<style>\n",
              "  .colab-df-quickchart {\n",
              "      --bg-color: #E8F0FE;\n",
              "      --fill-color: #1967D2;\n",
              "      --hover-bg-color: #E2EBFA;\n",
              "      --hover-fill-color: #174EA6;\n",
              "      --disabled-fill-color: #AAA;\n",
              "      --disabled-bg-color: #DDD;\n",
              "  }\n",
              "\n",
              "  [theme=dark] .colab-df-quickchart {\n",
              "      --bg-color: #3B4455;\n",
              "      --fill-color: #D2E3FC;\n",
              "      --hover-bg-color: #434B5C;\n",
              "      --hover-fill-color: #FFFFFF;\n",
              "      --disabled-bg-color: #3B4455;\n",
              "      --disabled-fill-color: #666;\n",
              "  }\n",
              "\n",
              "  .colab-df-quickchart {\n",
              "    background-color: var(--bg-color);\n",
              "    border: none;\n",
              "    border-radius: 50%;\n",
              "    cursor: pointer;\n",
              "    display: none;\n",
              "    fill: var(--fill-color);\n",
              "    height: 32px;\n",
              "    padding: 0;\n",
              "    width: 32px;\n",
              "  }\n",
              "\n",
              "  .colab-df-quickchart:hover {\n",
              "    background-color: var(--hover-bg-color);\n",
              "    box-shadow: 0 1px 2px rgba(60, 64, 67, 0.3), 0 1px 3px 1px rgba(60, 64, 67, 0.15);\n",
              "    fill: var(--button-hover-fill-color);\n",
              "  }\n",
              "\n",
              "  .colab-df-quickchart-complete:disabled,\n",
              "  .colab-df-quickchart-complete:disabled:hover {\n",
              "    background-color: var(--disabled-bg-color);\n",
              "    fill: var(--disabled-fill-color);\n",
              "    box-shadow: none;\n",
              "  }\n",
              "\n",
              "  .colab-df-spinner {\n",
              "    border: 2px solid var(--fill-color);\n",
              "    border-color: transparent;\n",
              "    border-bottom-color: var(--fill-color);\n",
              "    animation:\n",
              "      spin 1s steps(1) infinite;\n",
              "  }\n",
              "\n",
              "  @keyframes spin {\n",
              "    0% {\n",
              "      border-color: transparent;\n",
              "      border-bottom-color: var(--fill-color);\n",
              "      border-left-color: var(--fill-color);\n",
              "    }\n",
              "    20% {\n",
              "      border-color: transparent;\n",
              "      border-left-color: var(--fill-color);\n",
              "      border-top-color: var(--fill-color);\n",
              "    }\n",
              "    30% {\n",
              "      border-color: transparent;\n",
              "      border-left-color: var(--fill-color);\n",
              "      border-top-color: var(--fill-color);\n",
              "      border-right-color: var(--fill-color);\n",
              "    }\n",
              "    40% {\n",
              "      border-color: transparent;\n",
              "      border-right-color: var(--fill-color);\n",
              "      border-top-color: var(--fill-color);\n",
              "    }\n",
              "    60% {\n",
              "      border-color: transparent;\n",
              "      border-right-color: var(--fill-color);\n",
              "    }\n",
              "    80% {\n",
              "      border-color: transparent;\n",
              "      border-right-color: var(--fill-color);\n",
              "      border-bottom-color: var(--fill-color);\n",
              "    }\n",
              "    90% {\n",
              "      border-color: transparent;\n",
              "      border-bottom-color: var(--fill-color);\n",
              "    }\n",
              "  }\n",
              "</style>\n",
              "\n",
              "  <script>\n",
              "    async function quickchart(key) {\n",
              "      const quickchartButtonEl =\n",
              "        document.querySelector('#' + key + ' button');\n",
              "      quickchartButtonEl.disabled = true;  // To prevent multiple clicks.\n",
              "      quickchartButtonEl.classList.add('colab-df-spinner');\n",
              "      try {\n",
              "        const charts = await google.colab.kernel.invokeFunction(\n",
              "            'suggestCharts', [key], {});\n",
              "      } catch (error) {\n",
              "        console.error('Error during call to suggestCharts:', error);\n",
              "      }\n",
              "      quickchartButtonEl.classList.remove('colab-df-spinner');\n",
              "      quickchartButtonEl.classList.add('colab-df-quickchart-complete');\n",
              "    }\n",
              "    (() => {\n",
              "      let quickchartButtonEl =\n",
              "        document.querySelector('#df-f61ec420-ce69-48ac-aceb-95dbae596dae button');\n",
              "      quickchartButtonEl.style.display =\n",
              "        google.colab.kernel.accessAllowed ? 'block' : 'none';\n",
              "    })();\n",
              "  </script>\n",
              "</div>\n",
              "\n",
              "    </div>\n",
              "  </div>\n"
            ],
            "application/vnd.google.colaboratory.intrinsic+json": {
              "type": "dataframe"
            }
          },
          "metadata": {},
          "execution_count": 33
        }
      ]
    },
    {
      "cell_type": "markdown",
      "source": [
        "We can truncate the dataframe to include movies between 10minutes and 300 minutes in length since both of these categories would lop off just about 72,397 titles from a dataset of 995,285 titles."
      ],
      "metadata": {
        "id": "CacmGrMyIm6u"
      }
    },
    {
      "cell_type": "code",
      "source": [
        "# Filter movies with runtimeMinutes between 10 and 300\n",
        "df_movies_truncated = df_movie[(df_movie['runtimeMinutes'] >= 10) & (df_movie['runtimeMinutes'] <= 300)]\n",
        "\n",
        "df_movies_truncated.shape\n"
      ],
      "metadata": {
        "colab": {
          "base_uri": "https://localhost:8080/"
        },
        "id": "jtIS2TkVJG05",
        "outputId": "cd09c858-8c52-4577-97a2-a378a48381d3"
      },
      "execution_count": null,
      "outputs": [
        {
          "output_type": "execute_result",
          "data": {
            "text/plain": [
              "(922888, 37)"
            ]
          },
          "metadata": {},
          "execution_count": 33
        }
      ]
    },
    {
      "cell_type": "code",
      "source": [
        "# Plot histogram of 'runtimeMinutes'\n",
        "plt.hist(df_movies_truncated['runtimeMinutes'], bins=15, color='skyblue', edgecolor='grey')\n",
        "\n",
        "plt.xlabel('Runtime (minutes)')\n",
        "plt.ylabel('Frequency')\n",
        "plt.title('Distribution of Movie Runtimes')\n",
        "\n",
        "# Set limits on x-axis\n",
        "plt.xlim(0, 300)  # Adjust the limits as needed\n",
        "\n",
        "plt.show()"
      ],
      "metadata": {
        "colab": {
          "base_uri": "https://localhost:8080/",
          "height": 472
        },
        "id": "BbgekSepEtx4",
        "outputId": "1e4253fa-de8e-453c-d007-76651ae4b7ea"
      },
      "execution_count": null,
      "outputs": [
        {
          "output_type": "display_data",
          "data": {
            "text/plain": [
              "<Figure size 640x480 with 1 Axes>"
            ],
            "image/png": "[encoded data removed]"
          },
          "metadata": {}
        }
      ]
    },
    {
      "cell_type": "code",
      "source": [
        "# Standardizing numVotes, movie_age, and runtime\n",
        "\n",
        "# Initialize StandardScaler\n",
        "scaler = StandardScaler()\n",
        "\n",
        "# Define columns to be standardized\n",
        "columns_to_standardize = ['numVotes', 'movie_age', 'runtimeMinutes']\n",
        "\n",
        "# Standardize selected columns\n",
        "df_movies_truncated.loc[:, columns_to_standardize] = scaler.fit_transform(df_movies_truncated[columns_to_standardize])\n"
      ],
      "metadata": {
        "id": "zdrc5jmaJxgD"
      },
      "execution_count": null,
      "outputs": []
    },
    {
      "cell_type": "code",
      "source": [
        "df_movies_truncated.head()"
      ],
      "metadata": {
        "colab": {
          "base_uri": "https://localhost:8080/",
          "height": 272
        },
        "id": "t6XVpjaaK8rD",
        "outputId": "ba9ebd8d-e288-417b-830d-dd361634f172"
      },
      "execution_count": null,
      "outputs": [
        {
          "output_type": "execute_result",
          "data": {
            "text/plain": [
              "        tconst titleType  isAdult  startYear  movie_age  runtimeMinutes  \\\n",
              "121  tt0000004     short        0       1892   5.189158       -1.245043   \n",
              "129  tt0094205     movie        0       1979   1.063897        0.569961   \n",
              "130  tt1050182     short        0       1965   1.727732       -1.245043   \n",
              "131  tt0001223     short        0       1910   4.335656       -1.138278   \n",
              "132  tt0004457     movie        0       1914   4.145989        0.596653   \n",
              "\n",
              "     averageRating  numVotes  title_region_count  genre_Adult  ...  \\\n",
              "121            5.4 -0.062175                 7.0            0  ...   \n",
              "129            6.6 -0.068634                 8.0            0  ...   \n",
              "130            6.0 -0.069650                 2.0            0  ...   \n",
              "131            6.4  0.146090                 7.0            0  ...   \n",
              "132            5.5 -0.044505                 5.0            0  ...   \n",
              "\n",
              "     genre_Documentary  genre_Crime  genre_Musical  genre_Adventure  \\\n",
              "121                  0            0              0                0   \n",
              "129                  0            1              0                0   \n",
              "130                  0            0              0                0   \n",
              "131                  0            0              0                0   \n",
              "132                  0            0              0                1   \n",
              "\n",
              "     genre_Music  genre_Thriller  genre_Game-Show  genre_Romance  \\\n",
              "121            0               0                0              0   \n",
              "129            0               0                0              0   \n",
              "130            0               0                0              0   \n",
              "131            0               0                0              0   \n",
              "132            0               0                0              0   \n",
              "\n",
              "     genre_Mystery  genre_Reality-TV  \n",
              "121              0                 0  \n",
              "129              0                 0  \n",
              "130              0                 0  \n",
              "131              0                 0  \n",
              "132              0                 0  \n",
              "\n",
              "[5 rows x 37 columns]"
            ],
            "text/html": [
              "\n",
              "  <div id=\"df-fd60a0c5-2515-4354-bfc4-4f1983621d17\" class=\"colab-df-container\">\n",
              "    <div>\n",
              "<style scoped>\n",
              "    .dataframe tbody tr th:only-of-type {\n",
              "        vertical-align: middle;\n",
              "    }\n",
              "\n",
              "    .dataframe tbody tr th {\n",
              "        vertical-align: top;\n",
              "    }\n",
              "\n",
              "    .dataframe thead th {\n",
              "        text-align: right;\n",
              "    }\n",
              "</style>\n",
              "<table border=\"1\" class=\"dataframe\">\n",
              "  <thead>\n",
              "    <tr style=\"text-align: right;\">\n",
              "      <th></th>\n",
              "      <th>tconst</th>\n",
              "      <th>titleType</th>\n",
              "      <th>isAdult</th>\n",
              "      <th>startYear</th>\n",
              "      <th>movie_age</th>\n",
              "      <th>runtimeMinutes</th>\n",
              "      <th>averageRating</th>\n",
              "      <th>numVotes</th>\n",
              "      <th>title_region_count</th>\n",
              "      <th>genre_Adult</th>\n",
              "      <th>...</th>\n",
              "      <th>genre_Documentary</th>\n",
              "      <th>genre_Crime</th>\n",
              "      <th>genre_Musical</th>\n",
              "      <th>genre_Adventure</th>\n",
              "      <th>genre_Music</th>\n",
              "      <th>genre_Thriller</th>\n",
              "      <th>genre_Game-Show</th>\n",
              "      <th>genre_Romance</th>\n",
              "      <th>genre_Mystery</th>\n",
              "      <th>genre_Reality-TV</th>\n",
              "    </tr>\n",
              "  </thead>\n",
              "  <tbody>\n",
              "    <tr>\n",
              "      <th>121</th>\n",
              "      <td>tt0000004</td>\n",
              "      <td>short</td>\n",
              "      <td>0</td>\n",
              "      <td>1892</td>\n",
              "      <td>5.189158</td>\n",
              "      <td>-1.245043</td>\n",
              "      <td>5.4</td>\n",
              "      <td>-0.062175</td>\n",
              "      <td>7.0</td>\n",
              "      <td>0</td>\n",
              "      <td>...</td>\n",
              "      <td>0</td>\n",
              "      <td>0</td>\n",
              "      <td>0</td>\n",
              "      <td>0</td>\n",
              "      <td>0</td>\n",
              "      <td>0</td>\n",
              "      <td>0</td>\n",
              "      <td>0</td>\n",
              "      <td>0</td>\n",
              "      <td>0</td>\n",
              "    </tr>\n",
              "    <tr>\n",
              "      <th>129</th>\n",
              "      <td>tt0094205</td>\n",
              "      <td>movie</td>\n",
              "      <td>0</td>\n",
              "      <td>1979</td>\n",
              "      <td>1.063897</td>\n",
              "      <td>0.569961</td>\n",
              "      <td>6.6</td>\n",
              "      <td>-0.068634</td>\n",
              "      <td>8.0</td>\n",
              "      <td>0</td>\n",
              "      <td>...</td>\n",
              "      <td>0</td>\n",
              "      <td>1</td>\n",
              "      <td>0</td>\n",
              "      <td>0</td>\n",
              "      <td>0</td>\n",
              "      <td>0</td>\n",
              "      <td>0</td>\n",
              "      <td>0</td>\n",
              "      <td>0</td>\n",
              "      <td>0</td>\n",
              "    </tr>\n",
              "    <tr>\n",
              "      <th>130</th>\n",
              "      <td>tt1050182</td>\n",
              "      <td>short</td>\n",
              "      <td>0</td>\n",
              "      <td>1965</td>\n",
              "      <td>1.727732</td>\n",
              "      <td>-1.245043</td>\n",
              "      <td>6.0</td>\n",
              "      <td>-0.069650</td>\n",
              "      <td>2.0</td>\n",
              "      <td>0</td>\n",
              "      <td>...</td>\n",
              "      <td>0</td>\n",
              "      <td>0</td>\n",
              "      <td>0</td>\n",
              "      <td>0</td>\n",
              "      <td>0</td>\n",
              "      <td>0</td>\n",
              "      <td>0</td>\n",
              "      <td>0</td>\n",
              "      <td>0</td>\n",
              "      <td>0</td>\n",
              "    </tr>\n",
              "    <tr>\n",
              "      <th>131</th>\n",
              "      <td>tt0001223</td>\n",
              "      <td>short</td>\n",
              "      <td>0</td>\n",
              "      <td>1910</td>\n",
              "      <td>4.335656</td>\n",
              "      <td>-1.138278</td>\n",
              "      <td>6.4</td>\n",
              "      <td>0.146090</td>\n",
              "      <td>7.0</td>\n",
              "      <td>0</td>\n",
              "      <td>...</td>\n",
              "      <td>0</td>\n",
              "      <td>0</td>\n",
              "      <td>0</td>\n",
              "      <td>0</td>\n",
              "      <td>0</td>\n",
              "      <td>0</td>\n",
              "      <td>0</td>\n",
              "      <td>0</td>\n",
              "      <td>0</td>\n",
              "      <td>0</td>\n",
              "    </tr>\n",
              "    <tr>\n",
              "      <th>132</th>\n",
              "      <td>tt0004457</td>\n",
              "      <td>movie</td>\n",
              "      <td>0</td>\n",
              "      <td>1914</td>\n",
              "      <td>4.145989</td>\n",
              "      <td>0.596653</td>\n",
              "      <td>5.5</td>\n",
              "      <td>-0.044505</td>\n",
              "      <td>5.0</td>\n",
              "      <td>0</td>\n",
              "      <td>...</td>\n",
              "      <td>0</td>\n",
              "      <td>0</td>\n",
              "      <td>0</td>\n",
              "      <td>1</td>\n",
              "      <td>0</td>\n",
              "      <td>0</td>\n",
              "      <td>0</td>\n",
              "      <td>0</td>\n",
              "      <td>0</td>\n",
              "      <td>0</td>\n",
              "    </tr>\n",
              "  </tbody>\n",
              "</table>\n",
              "<p>5 rows × 37 columns</p>\n",
              "</div>\n",
              "    <div class=\"colab-df-buttons\">\n",
              "\n",
              "  <div class=\"colab-df-container\">\n",
              "    <button class=\"colab-df-convert\" onclick=\"convertToInteractive('df-fd60a0c5-2515-4354-bfc4-4f1983621d17')\"\n",
              "            title=\"Convert this dataframe to an interactive table.\"\n",
              "            style=\"display:none;\">\n",
              "\n",
              "  <svg xmlns=\"http://www.w3.org/2000/svg\" height=\"24px\" viewBox=\"0 -960 960 960\">\n",
              "    <path d=\"M120-120v-720h720v720H120Zm60-500h600v-160H180v160Zm220 220h160v-160H400v160Zm0 220h160v-160H400v160ZM180-400h160v-160H180v160Zm440 0h160v-160H620v160ZM180-180h160v-160H180v160Zm440 0h160v-160H620v160Z\"/>\n",
              "  </svg>\n",
              "    </button>\n",
              "\n",
              "  <style>\n",
              "    .colab-df-container {\n",
              "      display:flex;\n",
              "      gap: 12px;\n",
              "    }\n",
              "\n",
              "    .colab-df-convert {\n",
              "      background-color: #E8F0FE;\n",
              "      border: none;\n",
              "      border-radius: 50%;\n",
              "      cursor: pointer;\n",
              "      display: none;\n",
              "      fill: #1967D2;\n",
              "      height: 32px;\n",
              "      padding: 0 0 0 0;\n",
              "      width: 32px;\n",
              "    }\n",
              "\n",
              "    .colab-df-convert:hover {\n",
              "      background-color: #E2EBFA;\n",
              "      box-shadow: 0px 1px 2px rgba(60, 64, 67, 0.3), 0px 1px 3px 1px rgba(60, 64, 67, 0.15);\n",
              "      fill: #174EA6;\n",
              "    }\n",
              "\n",
              "    .colab-df-buttons div {\n",
              "      margin-bottom: 4px;\n",
              "    }\n",
              "\n",
              "    [theme=dark] .colab-df-convert {\n",
              "      background-color: #3B4455;\n",
              "      fill: #D2E3FC;\n",
              "    }\n",
              "\n",
              "    [theme=dark] .colab-df-convert:hover {\n",
              "      background-color: #434B5C;\n",
              "      box-shadow: 0px 1px 3px 1px rgba(0, 0, 0, 0.15);\n",
              "      filter: drop-shadow(0px 1px 2px rgba(0, 0, 0, 0.3));\n",
              "      fill: #FFFFFF;\n",
              "    }\n",
              "  </style>\n",
              "\n",
              "    <script>\n",
              "      const buttonEl =\n",
              "        document.querySelector('#df-fd60a0c5-2515-4354-bfc4-4f1983621d17 button.colab-df-convert');\n",
              "      buttonEl.style.display =\n",
              "        google.colab.kernel.accessAllowed ? 'block' : 'none';\n",
              "\n",
              "      async function convertToInteractive(key) {\n",
              "        const element = document.querySelector('#df-fd60a0c5-2515-4354-bfc4-4f1983621d17');\n",
              "        const dataTable =\n",
              "          await google.colab.kernel.invokeFunction('convertToInteractive',\n",
              "                                                    [key], {});\n",
              "        if (!dataTable) return;\n",
              "\n",
              "        const docLinkHtml = 'Like what you see? Visit the ' +\n",
              "          '<a target=\"_blank\" href=https://colab.research.google.com/notebooks/data_table.ipynb>data table notebook</a>'\n",
              "          + ' to learn more about interactive tables.';\n",
              "        element.innerHTML = '';\n",
              "        dataTable['output_type'] = 'display_data';\n",
              "        await google.colab.output.renderOutput(dataTable, element);\n",
              "        const docLink = document.createElement('div');\n",
              "        docLink.innerHTML = docLinkHtml;\n",
              "        element.appendChild(docLink);\n",
              "      }\n",
              "    </script>\n",
              "  </div>\n",
              "\n",
              "\n",
              "<div id=\"df-18ea7350-3153-4016-8535-4a3517fa02db\">\n",
              "  <button class=\"colab-df-quickchart\" onclick=\"quickchart('df-18ea7350-3153-4016-8535-4a3517fa02db')\"\n",
              "            title=\"Suggest charts\"\n",
              "            style=\"display:none;\">\n",
              "\n",
              "<svg xmlns=\"http://www.w3.org/2000/svg\" height=\"24px\"viewBox=\"0 0 24 24\"\n",
              "     width=\"24px\">\n",
              "    <g>\n",
              "        <path d=\"M19 3H5c-1.1 0-2 .9-2 2v14c0 1.1.9 2 2 2h14c1.1 0 2-.9 2-2V5c0-1.1-.9-2-2-2zM9 17H7v-7h2v7zm4 0h-2V7h2v10zm4 0h-2v-4h2v4z\"/>\n",
              "    </g>\n",
              "</svg>\n",
              "  </button>\n",
              "\n",
              "<style>\n",
              "  .colab-df-quickchart {\n",
              "      --bg-color: #E8F0FE;\n",
              "      --fill-color: #1967D2;\n",
              "      --hover-bg-color: #E2EBFA;\n",
              "      --hover-fill-color: #174EA6;\n",
              "      --disabled-fill-color: #AAA;\n",
              "      --disabled-bg-color: #DDD;\n",
              "  }\n",
              "\n",
              "  [theme=dark] .colab-df-quickchart {\n",
              "      --bg-color: #3B4455;\n",
              "      --fill-color: #D2E3FC;\n",
              "      --hover-bg-color: #434B5C;\n",
              "      --hover-fill-color: #FFFFFF;\n",
              "      --disabled-bg-color: #3B4455;\n",
              "      --disabled-fill-color: #666;\n",
              "  }\n",
              "\n",
              "  .colab-df-quickchart {\n",
              "    background-color: var(--bg-color);\n",
              "    border: none;\n",
              "    border-radius: 50%;\n",
              "    cursor: pointer;\n",
              "    display: none;\n",
              "    fill: var(--fill-color);\n",
              "    height: 32px;\n",
              "    padding: 0;\n",
              "    width: 32px;\n",
              "  }\n",
              "\n",
              "  .colab-df-quickchart:hover {\n",
              "    background-color: var(--hover-bg-color);\n",
              "    box-shadow: 0 1px 2px rgba(60, 64, 67, 0.3), 0 1px 3px 1px rgba(60, 64, 67, 0.15);\n",
              "    fill: var(--button-hover-fill-color);\n",
              "  }\n",
              "\n",
              "  .colab-df-quickchart-complete:disabled,\n",
              "  .colab-df-quickchart-complete:disabled:hover {\n",
              "    background-color: var(--disabled-bg-color);\n",
              "    fill: var(--disabled-fill-color);\n",
              "    box-shadow: none;\n",
              "  }\n",
              "\n",
              "  .colab-df-spinner {\n",
              "    border: 2px solid var(--fill-color);\n",
              "    border-color: transparent;\n",
              "    border-bottom-color: var(--fill-color);\n",
              "    animation:\n",
              "      spin 1s steps(1) infinite;\n",
              "  }\n",
              "\n",
              "  @keyframes spin {\n",
              "    0% {\n",
              "      border-color: transparent;\n",
              "      border-bottom-color: var(--fill-color);\n",
              "      border-left-color: var(--fill-color);\n",
              "    }\n",
              "    20% {\n",
              "      border-color: transparent;\n",
              "      border-left-color: var(--fill-color);\n",
              "      border-top-color: var(--fill-color);\n",
              "    }\n",
              "    30% {\n",
              "      border-color: transparent;\n",
              "      border-left-color: var(--fill-color);\n",
              "      border-top-color: var(--fill-color);\n",
              "      border-right-color: var(--fill-color);\n",
              "    }\n",
              "    40% {\n",
              "      border-color: transparent;\n",
              "      border-right-color: var(--fill-color);\n",
              "      border-top-color: var(--fill-color);\n",
              "    }\n",
              "    60% {\n",
              "      border-color: transparent;\n",
              "      border-right-color: var(--fill-color);\n",
              "    }\n",
              "    80% {\n",
              "      border-color: transparent;\n",
              "      border-right-color: var(--fill-color);\n",
              "      border-bottom-color: var(--fill-color);\n",
              "    }\n",
              "    90% {\n",
              "      border-color: transparent;\n",
              "      border-bottom-color: var(--fill-color);\n",
              "    }\n",
              "  }\n",
              "</style>\n",
              "\n",
              "  <script>\n",
              "    async function quickchart(key) {\n",
              "      const quickchartButtonEl =\n",
              "        document.querySelector('#' + key + ' button');\n",
              "      quickchartButtonEl.disabled = true;  // To prevent multiple clicks.\n",
              "      quickchartButtonEl.classList.add('colab-df-spinner');\n",
              "      try {\n",
              "        const charts = await google.colab.kernel.invokeFunction(\n",
              "            'suggestCharts', [key], {});\n",
              "      } catch (error) {\n",
              "        console.error('Error during call to suggestCharts:', error);\n",
              "      }\n",
              "      quickchartButtonEl.classList.remove('colab-df-spinner');\n",
              "      quickchartButtonEl.classList.add('colab-df-quickchart-complete');\n",
              "    }\n",
              "    (() => {\n",
              "      let quickchartButtonEl =\n",
              "        document.querySelector('#df-18ea7350-3153-4016-8535-4a3517fa02db button');\n",
              "      quickchartButtonEl.style.display =\n",
              "        google.colab.kernel.accessAllowed ? 'block' : 'none';\n",
              "    })();\n",
              "  </script>\n",
              "</div>\n",
              "\n",
              "    </div>\n",
              "  </div>\n"
            ],
            "application/vnd.google.colaboratory.intrinsic+json": {
              "type": "dataframe",
              "variable_name": "df_movies_truncated"
            }
          },
          "metadata": {},
          "execution_count": 7
        }
      ]
    },
    {
      "cell_type": "code",
      "source": [
        "# Exploring truncated dataset\n",
        "df_movies_truncated['title_region_count'].nunique() #85\n",
        "df_movies_truncated['titleType'].value_counts()"
      ],
      "metadata": {
        "colab": {
          "base_uri": "https://localhost:8080/"
        },
        "id": "o66r9DTRMu3c",
        "outputId": "923699a9-f650-40bd-a6c3-c6490bea546c"
      },
      "execution_count": null,
      "outputs": [
        {
          "output_type": "execute_result",
          "data": {
            "text/plain": [
              "tvEpisode       413540\n",
              "movie           275223\n",
              "short            88100\n",
              "tvSeries         47567\n",
              "tvMovie          44078\n",
              "video            37348\n",
              "tvMiniSeries      8061\n",
              "tvSpecial         7609\n",
              "tvShort           1254\n",
              "videoGame          108\n",
              "Name: titleType, dtype: int64"
            ]
          },
          "metadata": {},
          "execution_count": 53
        }
      ]
    },
    {
      "cell_type": "code",
      "source": [
        "# THIS CELL KEPT ONLY FOR SELF NOTES\n",
        "# # Replace missing values in 'title_region_count' column with 0\n",
        "# df_movies_truncated['title_region_count'].fillna(0, inplace=True)\n",
        "\n",
        "# # Warning with this command. Explanation: The warning you're encountering (SettingWithCopyWarning) typically occurs when you're trying to modify\n",
        "# # a DataFrame that is actually a view of another DataFrame, rather than a copy. To avoid this warning, you can explicitly make a copy of the DataFrame before modifying it."
      ],
      "metadata": {
        "id": "hbmR-sCcW1S8"
      },
      "execution_count": null,
      "outputs": []
    },
    {
      "cell_type": "code",
      "source": [
        "# Make a copy of the DataFrame to solve above warning\n",
        "df_movies_truncated_copy = df_movies_truncated.copy()\n",
        "\n",
        "# Replace missing values in 'title_region_count' column with 0 in the copied DataFrame\n",
        "df_movies_truncated_copy['title_region_count'].fillna(0, inplace=True)\n"
      ],
      "metadata": {
        "id": "zraS6UC2Xpb9"
      },
      "execution_count": null,
      "outputs": []
    },
    {
      "cell_type": "code",
      "source": [
        "# Convert 'title_region_count' column to integer\n",
        "df_movies_truncated_copy['title_region_count'] = df_movies_truncated_copy['title_region_count'].astype(int)"
      ],
      "metadata": {
        "id": "0Kc7aVplW8MD"
      },
      "execution_count": null,
      "outputs": []
    },
    {
      "cell_type": "code",
      "source": [
        "#'averageRating' is the target variable\n",
        "X = df_movies_truncated_copy.drop(columns=['averageRating', 'tconst', 'startYear', 'titleType'])\n",
        "y = df_movies_truncated_copy['averageRating']\n"
      ],
      "metadata": {
        "id": "5PnTnuKb6IWZ"
      },
      "execution_count": null,
      "outputs": []
    },
    {
      "cell_type": "code",
      "source": [
        "# Specify the number of entries you want to sample\n",
        "n_samples = 10000\n",
        "\n",
        "# Sample from X and y\n",
        "X_sampled = X.sample(n=n_samples, random_state=50)\n",
        "y_sampled = y.loc[X_sampled.index]\n",
        "\n",
        "# Verify the shape of the sampled data\n",
        "print(\"Shape of X_sampled:\", X_sampled.shape)\n",
        "print(\"Shape of y_sampled:\", y_sampled.shape)\n"
      ],
      "metadata": {
        "colab": {
          "base_uri": "https://localhost:8080/"
        },
        "id": "-VQE8i9NNtXV",
        "outputId": "da4cbe9b-9162-4af5-d173-b8057be782c8"
      },
      "execution_count": null,
      "outputs": [
        {
          "output_type": "stream",
          "name": "stdout",
          "text": [
            "Shape of X_sampled: (10000, 33)\n",
            "Shape of y_sampled: (10000,)\n"
          ]
        }
      ]
    },
    {
      "cell_type": "code",
      "source": [
        "X_sampled.isna().sum()"
      ],
      "metadata": {
        "id": "f-dQ3JcfP_-5"
      },
      "execution_count": null,
      "outputs": []
    },
    {
      "cell_type": "code",
      "source": [
        "# Split Data into Training and Testing Sets for random sample:\n",
        "from sklearn.model_selection import train_test_split\n",
        "\n",
        "X_train_sample, X_test_sample, y_train_sample, y_test_sample = train_test_split(X_sampled, y_sampled, test_size=0.2, random_state=42)\n"
      ],
      "metadata": {
        "id": "G-TLxJdMNOP7"
      },
      "execution_count": null,
      "outputs": []
    },
    {
      "cell_type": "markdown",
      "source": [
        "## **Random Forest on Sample**"
      ],
      "metadata": {
        "id": "FGnDFGHoOUja"
      }
    },
    {
      "cell_type": "code",
      "source": [
        "# Train the Random Forest model\n",
        "rf_model = RandomForestRegressor(n_estimators=100, random_state=50)\n",
        "rf_model.fit(X_train_sample, y_train_sample)\n",
        "\n",
        "# Make predictions on the test set\n",
        "y_pred_sample = rf_model.predict(X_test_sample)\n",
        "\n",
        "# Evaluate the model using Mean Squared Error (MSE)\n",
        "mse = mean_squared_error(y_test_sample, y_pred_sample)\n",
        "print(f'Mean Squared Error (MSE): {mse}')"
      ],
      "metadata": {
        "colab": {
          "base_uri": "https://localhost:8080/"
        },
        "id": "G0jWlXHoODTj",
        "outputId": "be62a8c0-c873-463a-8ea1-8333730deed2"
      },
      "execution_count": null,
      "outputs": [
        {
          "output_type": "stream",
          "name": "stdout",
          "text": [
            "Mean Squared Error (MSE): 1.2383791607888268\n"
          ]
        }
      ]
    },
    {
      "cell_type": "markdown",
      "source": [
        "## **Linear Regression on Sample**"
      ],
      "metadata": {
        "id": "IZoErlkSOrQA"
      }
    },
    {
      "cell_type": "code",
      "source": [
        "# Initialize Linear Regression model\n",
        "ln_model = LinearRegression()\n",
        "\n",
        "# Train the model\n",
        "ln_model.fit(X_train_sample, y_train_sample)\n",
        "\n",
        "# Make predictions on the test set\n",
        "y_pred_sample = ln_model.predict(X_test_sample)\n",
        "\n",
        "# Evaluate the model using Mean Squared Error (MSE)\n",
        "mse = mean_squared_error(y_test_sample, y_pred_sample)\n",
        "\n",
        "print(f'Mean Squared Error (MSE): {mse}')\n"
      ],
      "metadata": {
        "id": "HUj7HihZOqF7"
      },
      "execution_count": null,
      "outputs": []
    },
    {
      "cell_type": "markdown",
      "source": [
        "## **Random Forest with complete dataset**"
      ],
      "metadata": {
        "id": "F72_kV1aYgK8"
      }
    },
    {
      "cell_type": "code",
      "source": [
        "from sklearn.model_selection import train_test_split\n",
        "\n",
        "# Split the data into train and temp sets (60% train, 40% temp)\n",
        "X_train, X_temp, y_train, y_temp = train_test_split(X, y, test_size=0.4, random_state=42)\n",
        "\n",
        "# Split the temp set into test and validation sets (50% test, 50% validation)\n",
        "X_test, X_val, y_test, y_val = train_test_split(X_temp, y_temp, test_size=0.5, random_state=42)\n",
        "\n",
        "# train, test, and validation sets\n",
        "# 60-20-20 split\n"
      ],
      "metadata": {
        "id": "pZi0YjLZYM9R"
      },
      "execution_count": null,
      "outputs": []
    },
    {
      "cell_type": "code",
      "source": [
        "# Train the Random Forest model\n",
        "rf_model = RandomForestRegressor(n_estimators=100, random_state=50)\n",
        "rf_model.fit(X_train, y_train)\n",
        "\n",
        "# Make predictions on the validation set\n",
        "y_pred_rf = rf_model.predict(X_val)\n",
        "\n",
        "# Evaluate the model using Mean Squared Error (MSE)\n",
        "mse_rf = mean_squared_error(y_val, y_pred_rf)\n",
        "print(f'Mean Squared Error (MSE): {mse_rf}')\n",
        "\n",
        "root_mse_rf = np.sqrt(mse_rf)\n",
        "print(f'Root Mean Squared Error (RMSE): {root_mse_rf}')"
      ],
      "metadata": {
        "colab": {
          "base_uri": "https://localhost:8080/"
        },
        "id": "skfbxOi78HWA",
        "outputId": "5c711f01-619e-4dcf-867c-7041be2b2f85"
      },
      "execution_count": null,
      "outputs": [
        {
          "output_type": "stream",
          "name": "stdout",
          "text": [
            "Mean Squared Error (MSE): 1.0587428405308277\n",
            "Root Mean Squared Error (RMSE): 1.0289523023594571\n"
          ]
        }
      ]
    },
    {
      "cell_type": "code",
      "source": [
        "# Checking Feature importance in Random Forest\n",
        "feature_importances = rf_model.feature_importances_\n",
        "\n",
        "# Get the indices of features sorted by importance\n",
        "sorted_idx = np.argsort(feature_importances)\n",
        "yticks_positions = np.arange(len(sorted_idx)) * 2.5 #2.5 is spacing\n",
        "\n",
        "# Plot feature importances\n",
        "plt.figure(figsize=(10, 8))\n",
        "plt.barh(yticks_positions, feature_importances[sorted_idx], align=\"center\")\n",
        "\n",
        "plt.yticks(yticks_positions, X_train.columns[sorted_idx])\n",
        "\n",
        "plt.xlabel(\"Feature Importance\")\n",
        "plt.title(\"Random Forest Feature Importances\")\n",
        "plt.show()"
      ],
      "metadata": {
        "colab": {
          "base_uri": "https://localhost:8080/",
          "height": 718
        },
        "id": "7c0OzDwd-5K1",
        "outputId": "f18acb01-f181-4477-8ed9-28423e5046f8"
      },
      "execution_count": null,
      "outputs": [
        {
          "output_type": "display_data",
          "data": {
            "text/plain": [
              "<Figure size 1000x800 with 1 Axes>"
            ],
            "image/png": "[encoded data removed]"
          },
          "metadata": {}
        }
      ]
    },
    {
      "cell_type": "markdown",
      "source": [
        "## **Linear Regression with complete dataset**"
      ],
      "metadata": {
        "id": "-uRwNeLzaShp"
      }
    },
    {
      "cell_type": "code",
      "source": [
        "# Initialize Linear Regression model\n",
        "ln_model = LinearRegression()\n",
        "\n",
        "# Train the model\n",
        "ln_model.fit(X_train, y_train)\n",
        "\n",
        "# Make predictions on the validation set\n",
        "y_pred_ln = ln_model.predict(X_val)\n",
        "\n",
        "# Evaluate the model using Mean Squared Error (MSE)\n",
        "mse_ln = mean_squared_error(y_val, y_pred_ln)\n",
        "root_mse_ln = np.sqrt(mse_ln)\n",
        "\n",
        "print(f'Mean Squared Error (MSE): {mse_ln}')\n",
        "print(f'Root Mean Squared Error (MSE): {root_mse_ln}')"
      ],
      "metadata": {
        "colab": {
          "base_uri": "https://localhost:8080/"
        },
        "id": "b7UP8fZUaRc0",
        "outputId": "5d03c369-a893-4735-c884-bf26c6498a02"
      },
      "execution_count": null,
      "outputs": [
        {
          "output_type": "stream",
          "name": "stdout",
          "text": [
            "Mean Squared Error (MSE): 1.495663287092642\n",
            "Root Mean Squared Error (MSE): 1.2229731342481085\n",
            "R-squared: 0.15199306204456342\n"
          ]
        }
      ]
    },
    {
      "cell_type": "code",
      "source": [
        "# Linear Regression Feature Importance\n",
        "\n",
        "coefficients = ln_model.coef_\n",
        "print(coefficients)\n",
        "feature_names = X_train.columns\n",
        "\n",
        "# Get the indices of features sorted by absolute coefficient values\n",
        "sorted_idx = np.argsort(np.abs(coefficients))\n",
        "print(sorted_idx)\n",
        "yticks_positions = np.arange(len(sorted_idx)) * 2 # 2 is spacing\n",
        "\n",
        "# Plot feature coefficients\n",
        "plt.figure(figsize=(12, 10))\n",
        "plt.barh(yticks_positions, coefficients[sorted_idx], align=\"center\")\n",
        "\n",
        "plt.yticks(yticks_positions, feature_names[sorted_idx])\n",
        "\n",
        "plt.xlabel(\"Coefficient Value\")\n",
        "plt.title(\"Linear Regression Coefficients\")\n",
        "plt.show()"
      ],
      "metadata": {
        "colab": {
          "base_uri": "https://localhost:8080/",
          "height": 1000
        },
        "id": "D4hJZeaAURrU",
        "outputId": "9a5e6c6d-22f6-4fdc-9924-6abec99fd34a"
      },
      "execution_count": null,
      "outputs": [
        {
          "output_type": "stream",
          "name": "stdout",
          "text": [
            "[-6.86872891e-01 -1.27350003e-01 -3.01488363e-01  1.16581917e-01\n",
            " -2.73591396e-02  5.54767779e-01  1.62197900e-01 -4.13133695e-04\n",
            "  2.86359138e-01  9.74646897e-02 -2.67124143e-01  6.08231955e-02\n",
            " -8.00559473e-01  3.19870984e-01  2.38066598e-01  2.91052735e-01\n",
            " -2.53496881e-01  2.45879955e-01  9.01046008e-02  4.66413525e-01\n",
            " -1.71977542e-01  3.32567626e-01 -2.12699545e-01  4.75763247e-01\n",
            "  1.81889332e-01 -2.21471718e-01  1.50466349e-01  3.42156952e-01\n",
            " -3.07114970e-01  2.37882690e-01 -4.72558469e-03  1.78120906e-01\n",
            "  6.18344732e-02]\n",
            "[ 7 30  4 11 32 18  9  3  1 26  6 20 31 24 22 25 29 14 17 16 10  8 15  2\n",
            " 28 13 21 27 19 23  5  0 12]\n"
          ]
        },
        {
          "output_type": "display_data",
          "data": {
            "text/plain": [
              "<Figure size 1200x1000 with 1 Axes>"
            ],
            "image/png": "[encoded data removed]"
          },
          "metadata": {}
        }
      ]
    },
    {
      "cell_type": "markdown",
      "source": [
        "## **XGBoost with complete dataset**"
      ],
      "metadata": {
        "id": "5_gjzhU_IKu_"
      }
    },
    {
      "cell_type": "code",
      "source": [
        "# Train the XGBoost Model:\n",
        "# Create an XGBoost regressor and fit it to your training data.\n",
        "\n",
        "xg_reg = xgb.XGBRegressor(objective ='reg:squarederror', colsample_bytree = 0.3, learning_rate = 0.1,\n",
        "                max_depth = 5, alpha = 10, n_estimators = 100)\n",
        "xg_reg.fit(X_train,y_train)"
      ],
      "metadata": {
        "colab": {
          "base_uri": "https://localhost:8080/",
          "height": 247
        },
        "id": "othR_RUZIJvs",
        "outputId": "26ec5087-46c7-4623-c67d-5a4cf56a5190"
      },
      "execution_count": null,
      "outputs": [
        {
          "output_type": "execute_result",
          "data": {
            "text/plain": [
              "XGBRegressor(alpha=10, base_score=None, booster=None, callbacks=None,\n",
              "             colsample_bylevel=None, colsample_bynode=None,\n",
              "             colsample_bytree=0.3, device=None, early_stopping_rounds=None,\n",
              "             enable_categorical=False, eval_metric=None, feature_types=None,\n",
              "             gamma=None, grow_policy=None, importance_type=None,\n",
              "             interaction_constraints=None, learning_rate=0.1, max_bin=None,\n",
              "             max_cat_threshold=None, max_cat_to_onehot=None,\n",
              "             max_delta_step=None, max_depth=5, max_leaves=None,\n",
              "             min_child_weight=None, missing=nan, monotone_constraints=None,\n",
              "             multi_strategy=None, n_estimators=100, n_jobs=None,\n",
              "             num_parallel_tree=None, ...)"
            ],
            "text/html": [
              "<style>#sk-container-id-1 {color: black;background-color: white;}#sk-container-id-1 pre{padding: 0;}#sk-container-id-1 div.sk-toggleable {background-color: white;}#sk-container-id-1 label.sk-toggleable__label {cursor: pointer;display: block;width: 100%;margin-bottom: 0;padding: 0.3em;box-sizing: border-box;text-align: center;}#sk-container-id-1 label.sk-toggleable__label-arrow:before {content: \"▸\";float: left;margin-right: 0.25em;color: #696969;}#sk-container-id-1 label.sk-toggleable__label-arrow:hover:before {color: black;}#sk-container-id-1 div.sk-estimator:hover label.sk-toggleable__label-arrow:before {color: black;}#sk-container-id-1 div.sk-toggleable__content {max-height: 0;max-width: 0;overflow: hidden;text-align: left;background-color: #f0f8ff;}#sk-container-id-1 div.sk-toggleable__content pre {margin: 0.2em;color: black;border-radius: 0.25em;background-color: #f0f8ff;}#sk-container-id-1 input.sk-toggleable__control:checked~div.sk-toggleable__content {max-height: 200px;max-width: 100%;overflow: auto;}#sk-container-id-1 input.sk-toggleable__control:checked~label.sk-toggleable__label-arrow:before {content: \"▾\";}#sk-container-id-1 div.sk-estimator input.sk-toggleable__control:checked~label.sk-toggleable__label {background-color: #d4ebff;}#sk-container-id-1 div.sk-label input.sk-toggleable__control:checked~label.sk-toggleable__label {background-color: #d4ebff;}#sk-container-id-1 input.sk-hidden--visually {border: 0;clip: rect(1px 1px 1px 1px);clip: rect(1px, 1px, 1px, 1px);height: 1px;margin: -1px;overflow: hidden;padding: 0;position: absolute;width: 1px;}#sk-container-id-1 div.sk-estimator {font-family: monospace;background-color: #f0f8ff;border: 1px dotted black;border-radius: 0.25em;box-sizing: border-box;margin-bottom: 0.5em;}#sk-container-id-1 div.sk-estimator:hover {background-color: #d4ebff;}#sk-container-id-1 div.sk-parallel-item::after {content: \"\";width: 100%;border-bottom: 1px solid gray;flex-grow: 1;}#sk-container-id-1 div.sk-label:hover label.sk-toggleable__label {background-color: #d4ebff;}#sk-container-id-1 div.sk-serial::before {content: \"\";position: absolute;border-left: 1px solid gray;box-sizing: border-box;top: 0;bottom: 0;left: 50%;z-index: 0;}#sk-container-id-1 div.sk-serial {display: flex;flex-direction: column;align-items: center;background-color: white;padding-right: 0.2em;padding-left: 0.2em;position: relative;}#sk-container-id-1 div.sk-item {position: relative;z-index: 1;}#sk-container-id-1 div.sk-parallel {display: flex;align-items: stretch;justify-content: center;background-color: white;position: relative;}#sk-container-id-1 div.sk-item::before, #sk-container-id-1 div.sk-parallel-item::before {content: \"\";position: absolute;border-left: 1px solid gray;box-sizing: border-box;top: 0;bottom: 0;left: 50%;z-index: -1;}#sk-container-id-1 div.sk-parallel-item {display: flex;flex-direction: column;z-index: 1;position: relative;background-color: white;}#sk-container-id-1 div.sk-parallel-item:first-child::after {align-self: flex-end;width: 50%;}#sk-container-id-1 div.sk-parallel-item:last-child::after {align-self: flex-start;width: 50%;}#sk-container-id-1 div.sk-parallel-item:only-child::after {width: 0;}#sk-container-id-1 div.sk-dashed-wrapped {border: 1px dashed gray;margin: 0 0.4em 0.5em 0.4em;box-sizing: border-box;padding-bottom: 0.4em;background-color: white;}#sk-container-id-1 div.sk-label label {font-family: monospace;font-weight: bold;display: inline-block;line-height: 1.2em;}#sk-container-id-1 div.sk-label-container {text-align: center;}#sk-container-id-1 div.sk-container {/* jupyter's `normalize.less` sets `[hidden] { display: none; }` but bootstrap.min.css set `[hidden] { display: none !important; }` so we also need the `!important` here to be able to override the default hidden behavior on the sphinx rendered scikit-learn.org. See: https://github.com/scikit-learn/scikit-learn/issues/21755 */display: inline-block !important;position: relative;}#sk-container-id-1 div.sk-text-repr-fallback {display: none;}</style><div id=\"sk-container-id-1\" class=\"sk-top-container\"><div class=\"sk-text-repr-fallback\"><pre>XGBRegressor(alpha=10, base_score=None, booster=None, callbacks=None,\n",
              "             colsample_bylevel=None, colsample_bynode=None,\n",
              "             colsample_bytree=0.3, device=None, early_stopping_rounds=None,\n",
              "             enable_categorical=False, eval_metric=None, feature_types=None,\n",
              "             gamma=None, grow_policy=None, importance_type=None,\n",
              "             interaction_constraints=None, learning_rate=0.1, max_bin=None,\n",
              "             max_cat_threshold=None, max_cat_to_onehot=None,\n",
              "             max_delta_step=None, max_depth=5, max_leaves=None,\n",
              "             min_child_weight=None, missing=nan, monotone_constraints=None,\n",
              "             multi_strategy=None, n_estimators=100, n_jobs=None,\n",
              "             num_parallel_tree=None, ...)</pre><b>In a Jupyter environment, please rerun this cell to show the HTML representation or trust the notebook. <br />On GitHub, the HTML representation is unable to render, please try loading this page with nbviewer.org.</b></div><div class=\"sk-container\" hidden><div class=\"sk-item\"><div class=\"sk-estimator sk-toggleable\"><input class=\"sk-toggleable__control sk-hidden--visually\" id=\"sk-estimator-id-1\" type=\"checkbox\" checked><label for=\"sk-estimator-id-1\" class=\"sk-toggleable__label sk-toggleable__label-arrow\">XGBRegressor</label><div class=\"sk-toggleable__content\"><pre>XGBRegressor(alpha=10, base_score=None, booster=None, callbacks=None,\n",
              "             colsample_bylevel=None, colsample_bynode=None,\n",
              "             colsample_bytree=0.3, device=None, early_stopping_rounds=None,\n",
              "             enable_categorical=False, eval_metric=None, feature_types=None,\n",
              "             gamma=None, grow_policy=None, importance_type=None,\n",
              "             interaction_constraints=None, learning_rate=0.1, max_bin=None,\n",
              "             max_cat_threshold=None, max_cat_to_onehot=None,\n",
              "             max_delta_step=None, max_depth=5, max_leaves=None,\n",
              "             min_child_weight=None, missing=nan, monotone_constraints=None,\n",
              "             multi_strategy=None, n_estimators=100, n_jobs=None,\n",
              "             num_parallel_tree=None, ...)</pre></div></div></div></div></div>"
            ]
          },
          "metadata": {},
          "execution_count": 98
        }
      ]
    },
    {
      "cell_type": "code",
      "source": [
        "# Make predictions on validation set\n",
        "y_pred_xgb = xg_reg.predict(X_val)\n",
        "\n",
        "# Evaluate performance\n",
        "mse_xgb = mean_squared_error(y_val, y_pred_xgb)\n",
        "r2_xgb = r2_score(y_val, y_pred_xgb)\n",
        "\n",
        "print(\"Mean Squared Error:\", mse_xgb)\n",
        "print(\"R-squared:\", r2_xgb)"
      ],
      "metadata": {
        "colab": {
          "base_uri": "https://localhost:8080/"
        },
        "id": "yQrarUYvIrX-",
        "outputId": "7fcff142-d52e-46d1-96c9-b7487f45113a"
      },
      "execution_count": null,
      "outputs": [
        {
          "output_type": "stream",
          "name": "stdout",
          "text": [
            "Mean Squared Error: 1.2289966474902065\n",
            "R-squared: 0.3031869587294931\n"
          ]
        }
      ]
    },
    {
      "cell_type": "markdown",
      "source": [
        "## **Cross Validation**\n",
        "\n",
        "Using k-fold cross validation with k=5"
      ],
      "metadata": {
        "id": "GrL5KxIWOIoX"
      }
    },
    {
      "cell_type": "code",
      "source": [
        "#invoking KFold class from scikit-learn\n",
        "from sklearn.model_selection import KFold\n",
        "\n",
        "# Define the number of folds\n",
        "n = 5\n",
        "\n",
        "# Initialize KFold cross-validation\n",
        "kf = KFold(n_splits = n, shuffle=True, random_state=50)\n"
      ],
      "metadata": {
        "id": "KeJjTVb5OK6J"
      },
      "execution_count": null,
      "outputs": []
    },
    {
      "cell_type": "markdown",
      "source": [
        "### K-fold CV for Linear Regression\n",
        "\n",
        "The CV loop for both models is running entirely on X_train, which is divided into 5 folds."
      ],
      "metadata": {
        "id": "1wpEkWs1apRs"
      }
    },
    {
      "cell_type": "code",
      "source": [
        "# Initialize lists to store evaluation metrics\n",
        "mse_scores_ln = []\n",
        "\n",
        "# Loop through each fold\n",
        "for train_index, val_index in kf.split(X):\n",
        "    # Split data into training and validation sets\n",
        "    X_train, X_val = X.iloc[train_index], X.iloc[val_index]\n",
        "    y_train, y_val = y.iloc[train_index], y.iloc[val_index]\n",
        "\n",
        "    # Initialize and train the model\n",
        "    model = LinearRegression()\n",
        "    model.fit(X_train, y_train)\n",
        "\n",
        "    # Make predictions on the validation set\n",
        "    y_pred = model.predict(X_val)\n",
        "\n",
        "    # Calculate Mean Squared Error (MSE)\n",
        "    mse = mean_squared_error(y_val, y_pred)\n",
        "    mse_scores_ln.append(mse)"
      ],
      "metadata": {
        "id": "-iKgEc5taoh8"
      },
      "execution_count": null,
      "outputs": []
    },
    {
      "cell_type": "code",
      "source": [
        "# Aggregating results\n",
        "mean_mse_ln = np.mean(mse_scores_ln)\n",
        "print(\"Mean MSE for Linear Regression:\", mean_mse_ln)\n"
      ],
      "metadata": {
        "colab": {
          "base_uri": "https://localhost:8080/"
        },
        "id": "pI5XWiSda972",
        "outputId": "be43bb77-7aed-437e-f42b-a2983980da60"
      },
      "execution_count": null,
      "outputs": [
        {
          "output_type": "stream",
          "name": "stdout",
          "text": [
            "Mean MSE for Linear Regression: 1.4921289355678646\n"
          ]
        }
      ]
    },
    {
      "cell_type": "markdown",
      "source": [
        "### K-fold CV for Random Forest\n"
      ],
      "metadata": {
        "id": "mBbFwO-lawY0"
      }
    },
    {
      "cell_type": "code",
      "source": [
        "# Initialize lists to store evaluation metrics\n",
        "mse_scores_rf = []\n",
        "\n",
        "# Loop through each fold\n",
        "for train_index, val_index in kf.split(X):\n",
        "    # Split data into training and validation sets\n",
        "    X_train, X_val = X.iloc[train_index], X.iloc[val_index]\n",
        "    y_train, y_val = y.iloc[train_index], y.iloc[val_index]\n",
        "\n",
        "    # Initialize and train the model\n",
        "    model = RandomForestRegressor()\n",
        "    model.fit(X_train, y_train)\n",
        "\n",
        "    # Make predictions on the validation set\n",
        "    y_pred = model.predict(X_val)\n",
        "\n",
        "    # Calculate Mean Squared Error (MSE)\n",
        "    mse = mean_squared_error(y_val, y_pred)\n",
        "    mse_scores_rf.append(mse)"
      ],
      "metadata": {
        "id": "Kzq47_X9a7WP"
      },
      "execution_count": null,
      "outputs": []
    },
    {
      "cell_type": "code",
      "source": [
        "# Aggregating results\n",
        "mean_mse_rf = np.mean(mse_scores_rf)\n",
        "print(\"Mean MSE for Random Forest:\", mean_mse_rf)"
      ],
      "metadata": {
        "colab": {
          "base_uri": "https://localhost:8080/"
        },
        "id": "xzRe8LTvbGsv",
        "outputId": "79e7a9de-1964-4263-edf4-1e44fee515b5"
      },
      "execution_count": null,
      "outputs": [
        {
          "output_type": "stream",
          "name": "stdout",
          "text": [
            "Mean MSE for Random Forest: 1.0500583388801885\n"
          ]
        }
      ]
    },
    {
      "cell_type": "markdown",
      "source": [
        "### K-fold CV for Lasso\n",
        "Results of CV used in Lasso Regression to identify feature importance"
      ],
      "metadata": {
        "id": "cEejrg2lwLa1"
      }
    },
    {
      "cell_type": "code",
      "source": [
        "lasso = LassoCV(alphas=[1e-3, 1e-2, 1e-1, 1, 10, 100],\n",
        "                cv=kf).fit(X_train, y_train)"
      ],
      "metadata": {
        "id": "17hVdjt1wJRA"
      },
      "execution_count": null,
      "outputs": []
    },
    {
      "cell_type": "code",
      "source": [
        "# Alpha value chosen by CV:\n",
        "lasso.alpha_"
      ],
      "metadata": {
        "colab": {
          "base_uri": "https://localhost:8080/"
        },
        "id": "eK8tg4Glxgsw",
        "outputId": "d13fb688-ca43-4d35-b0ca-efa9bf500850"
      },
      "execution_count": null,
      "outputs": [
        {
          "output_type": "execute_result",
          "data": {
            "text/plain": [
              "0.001"
            ]
          },
          "metadata": {},
          "execution_count": 16
        }
      ]
    },
    {
      "cell_type": "code",
      "source": [
        "# The below R^2 is on the training set only, but may be overly optimistic. We should get a cross-validated R^2 instead.\n",
        "# this is train r^2\n",
        "lasso.score(X_train, y_train)"
      ],
      "metadata": {
        "colab": {
          "base_uri": "https://localhost:8080/"
        },
        "id": "PW3zKBsYxuQk",
        "outputId": "5074be8f-99d8-4a63-a19a-2fb58c0b9704"
      },
      "execution_count": null,
      "outputs": [
        {
          "output_type": "execute_result",
          "data": {
            "text/plain": [
              "0.15335699152482885"
            ]
          },
          "metadata": {},
          "execution_count": 17
        }
      ]
    },
    {
      "cell_type": "code",
      "source": [
        "# Initialize Lasso model with best alpha obtained from CV\n",
        "lasso_model = Lasso(alpha=lasso.alpha_)\n",
        "lasso_model.fit(X_train, y_train)\n",
        "\n",
        "# Make predictions on the validation set\n",
        "y_pred_lasso = lasso_model.predict(X_val)\n",
        "\n",
        "# Evaluate the model using Mean Squared Error (MSE)\n",
        "mse_lasso = mean_squared_error(y_val, y_pred_lasso)\n",
        "print(f'Mean Squared Error (MSE): {mse_lasso}')\n",
        "\n",
        "root_mse_lasso = np.sqrt(mse_lasso)\n",
        "print(f'Root Mean Squared Error (RMSE): {root_mse_lasso}')\n"
      ],
      "metadata": {
        "colab": {
          "base_uri": "https://localhost:8080/"
        },
        "id": "uutR_Mum0diV",
        "outputId": "eb626ec1-4650-4fdd-f1e3-021d383e72fe"
      },
      "execution_count": null,
      "outputs": [
        {
          "output_type": "stream",
          "name": "stdout",
          "text": [
            "Mean Squared Error (MSE): 1.496837117764646\n",
            "Root Mean Squared Error (RMSE): 1.2234529487334795\n"
          ]
        }
      ]
    },
    {
      "cell_type": "code",
      "source": [
        "lasso_coef_idx = np.where(lasso.coef_ !=0)\n",
        "lasso_coef_idx_zero = np.where(lasso.coef_ ==0)"
      ],
      "metadata": {
        "id": "1moJzBGV1aph"
      },
      "execution_count": null,
      "outputs": []
    },
    {
      "cell_type": "code",
      "source": [
        "# Features in Lasso\n",
        "lasso_coef_idx"
      ],
      "metadata": {
        "colab": {
          "base_uri": "https://localhost:8080/"
        },
        "id": "1O7ubYDQ1bOq",
        "outputId": "fe6a8394-4c36-4fca-e7a6-9c16aa57aa0f"
      },
      "execution_count": null,
      "outputs": [
        {
          "output_type": "execute_result",
          "data": {
            "text/plain": [
              "array([ 0,  1,  2,  3,  4,  6,  9, 10, 11, 12, 13, 14, 15, 16, 17, 18, 19,\n",
              "       20, 21, 22, 23, 24, 25, 26, 27, 28, 29, 31, 32])"
            ]
          },
          "metadata": {},
          "execution_count": 22
        }
      ]
    },
    {
      "cell_type": "code",
      "source": [
        "print(X_train.columns[lasso_coef_idx].values)"
      ],
      "metadata": {
        "colab": {
          "base_uri": "https://localhost:8080/"
        },
        "id": "MlLttzfL1rQS",
        "outputId": "7c1e1d29-e371-47ae-87b0-b20a853bfa18"
      },
      "execution_count": null,
      "outputs": [
        {
          "output_type": "stream",
          "name": "stdout",
          "text": [
            "['isAdult' 'movie_age' 'runtimeMinutes' 'numVotes' 'title_region_count'\n",
            " 'genre_Biography' 'genre_Animation' 'genre_Talk-Show' 'genre_Comedy'\n",
            " 'genre_Horror' 'genre_Sport' 'genre_Fantasy' 'genre_History' 'genre_News'\n",
            " 'genre_War' 'genre_Family' 'genre_Western' 'genre_Sci-Fi' 'genre_Drama'\n",
            " 'genre_Short' 'genre_Documentary' 'genre_Crime' 'genre_Musical'\n",
            " 'genre_Adventure' 'genre_Music' 'genre_Thriller' 'genre_Game-Show'\n",
            " 'genre_Mystery' 'genre_Reality-TV']\n"
          ]
        }
      ]
    },
    {
      "cell_type": "code",
      "source": [
        "print(X_train.columns[lasso_coef_idx_zero].values)"
      ],
      "metadata": {
        "colab": {
          "base_uri": "https://localhost:8080/"
        },
        "id": "DvqtVW3V1dKE",
        "outputId": "e0f34d75-ef7f-4930-e4b0-fd40cab94a7e"
      },
      "execution_count": null,
      "outputs": [
        {
          "output_type": "stream",
          "name": "stdout",
          "text": [
            "['genre_Adult' 'genre_Action' 'genre_Film-Noir' 'genre_Romance']\n"
          ]
        }
      ]
    },
    {
      "cell_type": "markdown",
      "source": [
        "### K-fold CV for Random Forest (after dropping features based on Lasso)"
      ],
      "metadata": {
        "id": "sYUxTd5Q27z7"
      }
    },
    {
      "cell_type": "code",
      "source": [
        "#Dropping features declared not important as per Lasso\n",
        "df_movie_new = df_movies_truncated_copy.drop(columns=['genre_Adult', 'genre_Action', 'genre_Film-Noir', 'genre_Romance'])\n",
        "df_movie_new.head()"
      ],
      "metadata": {
        "colab": {
          "base_uri": "https://localhost:8080/",
          "height": 272
        },
        "id": "uidndvUi39pp",
        "outputId": "18b74d0d-fe13-434c-d386-b84c2f4d4842"
      },
      "execution_count": null,
      "outputs": [
        {
          "output_type": "execute_result",
          "data": {
            "text/plain": [
              "        tconst titleType  isAdult  startYear  movie_age  runtimeMinutes  \\\n",
              "121  tt0000004     short        0       1892        132            12.0   \n",
              "129  tt0094205     movie        0       1979         45            80.0   \n",
              "130  tt1050182     short        0       1965         59            12.0   \n",
              "131  tt0001223     short        0       1910        114            16.0   \n",
              "132  tt0004457     movie        0       1914        110            81.0   \n",
              "\n",
              "     averageRating  numVotes  title_region_count  genre_Biography  ...  \\\n",
              "121            5.4       178                   7                0  ...   \n",
              "129            6.6        38                   8                0  ...   \n",
              "130            6.0        16                   2                0  ...   \n",
              "131            6.4      4692                   7                0  ...   \n",
              "132            5.5       561                   5                0  ...   \n",
              "\n",
              "     genre_Short  genre_Documentary  genre_Crime  genre_Musical  \\\n",
              "121            1                  0            0              0   \n",
              "129            0                  0            1              0   \n",
              "130            1                  0            0              0   \n",
              "131            0                  0            0              0   \n",
              "132            0                  0            0              0   \n",
              "\n",
              "     genre_Adventure  genre_Music  genre_Thriller  genre_Game-Show  \\\n",
              "121                0            0               0                0   \n",
              "129                0            0               0                0   \n",
              "130                0            0               0                0   \n",
              "131                0            0               0                0   \n",
              "132                1            0               0                0   \n",
              "\n",
              "     genre_Mystery  genre_Reality-TV  \n",
              "121              0                 0  \n",
              "129              0                 0  \n",
              "130              0                 0  \n",
              "131              0                 0  \n",
              "132              0                 0  \n",
              "\n",
              "[5 rows x 33 columns]"
            ],
            "text/html": [
              "\n",
              "  <div id=\"df-051ed8dd-b839-43a8-8b10-e1055e71168d\" class=\"colab-df-container\">\n",
              "    <div>\n",
              "<style scoped>\n",
              "    .dataframe tbody tr th:only-of-type {\n",
              "        vertical-align: middle;\n",
              "    }\n",
              "\n",
              "    .dataframe tbody tr th {\n",
              "        vertical-align: top;\n",
              "    }\n",
              "\n",
              "    .dataframe thead th {\n",
              "        text-align: right;\n",
              "    }\n",
              "</style>\n",
              "<table border=\"1\" class=\"dataframe\">\n",
              "  <thead>\n",
              "    <tr style=\"text-align: right;\">\n",
              "      <th></th>\n",
              "      <th>tconst</th>\n",
              "      <th>titleType</th>\n",
              "      <th>isAdult</th>\n",
              "      <th>startYear</th>\n",
              "      <th>movie_age</th>\n",
              "      <th>runtimeMinutes</th>\n",
              "      <th>averageRating</th>\n",
              "      <th>numVotes</th>\n",
              "      <th>title_region_count</th>\n",
              "      <th>genre_Biography</th>\n",
              "      <th>...</th>\n",
              "      <th>genre_Short</th>\n",
              "      <th>genre_Documentary</th>\n",
              "      <th>genre_Crime</th>\n",
              "      <th>genre_Musical</th>\n",
              "      <th>genre_Adventure</th>\n",
              "      <th>genre_Music</th>\n",
              "      <th>genre_Thriller</th>\n",
              "      <th>genre_Game-Show</th>\n",
              "      <th>genre_Mystery</th>\n",
              "      <th>genre_Reality-TV</th>\n",
              "    </tr>\n",
              "  </thead>\n",
              "  <tbody>\n",
              "    <tr>\n",
              "      <th>121</th>\n",
              "      <td>tt0000004</td>\n",
              "      <td>short</td>\n",
              "      <td>0</td>\n",
              "      <td>1892</td>\n",
              "      <td>132</td>\n",
              "      <td>12.0</td>\n",
              "      <td>5.4</td>\n",
              "      <td>178</td>\n",
              "      <td>7</td>\n",
              "      <td>0</td>\n",
              "      <td>...</td>\n",
              "      <td>1</td>\n",
              "      <td>0</td>\n",
              "      <td>0</td>\n",
              "      <td>0</td>\n",
              "      <td>0</td>\n",
              "      <td>0</td>\n",
              "      <td>0</td>\n",
              "      <td>0</td>\n",
              "      <td>0</td>\n",
              "      <td>0</td>\n",
              "    </tr>\n",
              "    <tr>\n",
              "      <th>129</th>\n",
              "      <td>tt0094205</td>\n",
              "      <td>movie</td>\n",
              "      <td>0</td>\n",
              "      <td>1979</td>\n",
              "      <td>45</td>\n",
              "      <td>80.0</td>\n",
              "      <td>6.6</td>\n",
              "      <td>38</td>\n",
              "      <td>8</td>\n",
              "      <td>0</td>\n",
              "      <td>...</td>\n",
              "      <td>0</td>\n",
              "      <td>0</td>\n",
              "      <td>1</td>\n",
              "      <td>0</td>\n",
              "      <td>0</td>\n",
              "      <td>0</td>\n",
              "      <td>0</td>\n",
              "      <td>0</td>\n",
              "      <td>0</td>\n",
              "      <td>0</td>\n",
              "    </tr>\n",
              "    <tr>\n",
              "      <th>130</th>\n",
              "      <td>tt1050182</td>\n",
              "      <td>short</td>\n",
              "      <td>0</td>\n",
              "      <td>1965</td>\n",
              "      <td>59</td>\n",
              "      <td>12.0</td>\n",
              "      <td>6.0</td>\n",
              "      <td>16</td>\n",
              "      <td>2</td>\n",
              "      <td>0</td>\n",
              "      <td>...</td>\n",
              "      <td>1</td>\n",
              "      <td>0</td>\n",
              "      <td>0</td>\n",
              "      <td>0</td>\n",
              "      <td>0</td>\n",
              "      <td>0</td>\n",
              "      <td>0</td>\n",
              "      <td>0</td>\n",
              "      <td>0</td>\n",
              "      <td>0</td>\n",
              "    </tr>\n",
              "    <tr>\n",
              "      <th>131</th>\n",
              "      <td>tt0001223</td>\n",
              "      <td>short</td>\n",
              "      <td>0</td>\n",
              "      <td>1910</td>\n",
              "      <td>114</td>\n",
              "      <td>16.0</td>\n",
              "      <td>6.4</td>\n",
              "      <td>4692</td>\n",
              "      <td>7</td>\n",
              "      <td>0</td>\n",
              "      <td>...</td>\n",
              "      <td>0</td>\n",
              "      <td>0</td>\n",
              "      <td>0</td>\n",
              "      <td>0</td>\n",
              "      <td>0</td>\n",
              "      <td>0</td>\n",
              "      <td>0</td>\n",
              "      <td>0</td>\n",
              "      <td>0</td>\n",
              "      <td>0</td>\n",
              "    </tr>\n",
              "    <tr>\n",
              "      <th>132</th>\n",
              "      <td>tt0004457</td>\n",
              "      <td>movie</td>\n",
              "      <td>0</td>\n",
              "      <td>1914</td>\n",
              "      <td>110</td>\n",
              "      <td>81.0</td>\n",
              "      <td>5.5</td>\n",
              "      <td>561</td>\n",
              "      <td>5</td>\n",
              "      <td>0</td>\n",
              "      <td>...</td>\n",
              "      <td>0</td>\n",
              "      <td>0</td>\n",
              "      <td>0</td>\n",
              "      <td>0</td>\n",
              "      <td>1</td>\n",
              "      <td>0</td>\n",
              "      <td>0</td>\n",
              "      <td>0</td>\n",
              "      <td>0</td>\n",
              "      <td>0</td>\n",
              "    </tr>\n",
              "  </tbody>\n",
              "</table>\n",
              "<p>5 rows × 33 columns</p>\n",
              "</div>\n",
              "    <div class=\"colab-df-buttons\">\n",
              "\n",
              "  <div class=\"colab-df-container\">\n",
              "    <button class=\"colab-df-convert\" onclick=\"convertToInteractive('df-051ed8dd-b839-43a8-8b10-e1055e71168d')\"\n",
              "            title=\"Convert this dataframe to an interactive table.\"\n",
              "            style=\"display:none;\">\n",
              "\n",
              "  <svg xmlns=\"http://www.w3.org/2000/svg\" height=\"24px\" viewBox=\"0 -960 960 960\">\n",
              "    <path d=\"M120-120v-720h720v720H120Zm60-500h600v-160H180v160Zm220 220h160v-160H400v160Zm0 220h160v-160H400v160ZM180-400h160v-160H180v160Zm440 0h160v-160H620v160ZM180-180h160v-160H180v160Zm440 0h160v-160H620v160Z\"/>\n",
              "  </svg>\n",
              "    </button>\n",
              "\n",
              "  <style>\n",
              "    .colab-df-container {\n",
              "      display:flex;\n",
              "      gap: 12px;\n",
              "    }\n",
              "\n",
              "    .colab-df-convert {\n",
              "      background-color: #E8F0FE;\n",
              "      border: none;\n",
              "      border-radius: 50%;\n",
              "      cursor: pointer;\n",
              "      display: none;\n",
              "      fill: #1967D2;\n",
              "      height: 32px;\n",
              "      padding: 0 0 0 0;\n",
              "      width: 32px;\n",
              "    }\n",
              "\n",
              "    .colab-df-convert:hover {\n",
              "      background-color: #E2EBFA;\n",
              "      box-shadow: 0px 1px 2px rgba(60, 64, 67, 0.3), 0px 1px 3px 1px rgba(60, 64, 67, 0.15);\n",
              "      fill: #174EA6;\n",
              "    }\n",
              "\n",
              "    .colab-df-buttons div {\n",
              "      margin-bottom: 4px;\n",
              "    }\n",
              "\n",
              "    [theme=dark] .colab-df-convert {\n",
              "      background-color: #3B4455;\n",
              "      fill: #D2E3FC;\n",
              "    }\n",
              "\n",
              "    [theme=dark] .colab-df-convert:hover {\n",
              "      background-color: #434B5C;\n",
              "      box-shadow: 0px 1px 3px 1px rgba(0, 0, 0, 0.15);\n",
              "      filter: drop-shadow(0px 1px 2px rgba(0, 0, 0, 0.3));\n",
              "      fill: #FFFFFF;\n",
              "    }\n",
              "  </style>\n",
              "\n",
              "    <script>\n",
              "      const buttonEl =\n",
              "        document.querySelector('#df-051ed8dd-b839-43a8-8b10-e1055e71168d button.colab-df-convert');\n",
              "      buttonEl.style.display =\n",
              "        google.colab.kernel.accessAllowed ? 'block' : 'none';\n",
              "\n",
              "      async function convertToInteractive(key) {\n",
              "        const element = document.querySelector('#df-051ed8dd-b839-43a8-8b10-e1055e71168d');\n",
              "        const dataTable =\n",
              "          await google.colab.kernel.invokeFunction('convertToInteractive',\n",
              "                                                    [key], {});\n",
              "        if (!dataTable) return;\n",
              "\n",
              "        const docLinkHtml = 'Like what you see? Visit the ' +\n",
              "          '<a target=\"_blank\" href=https://colab.research.google.com/notebooks/data_table.ipynb>data table notebook</a>'\n",
              "          + ' to learn more about interactive tables.';\n",
              "        element.innerHTML = '';\n",
              "        dataTable['output_type'] = 'display_data';\n",
              "        await google.colab.output.renderOutput(dataTable, element);\n",
              "        const docLink = document.createElement('div');\n",
              "        docLink.innerHTML = docLinkHtml;\n",
              "        element.appendChild(docLink);\n",
              "      }\n",
              "    </script>\n",
              "  </div>\n",
              "\n",
              "\n",
              "<div id=\"df-6cc0202d-80a3-4e2d-a81d-bcf4ae9302d9\">\n",
              "  <button class=\"colab-df-quickchart\" onclick=\"quickchart('df-6cc0202d-80a3-4e2d-a81d-bcf4ae9302d9')\"\n",
              "            title=\"Suggest charts\"\n",
              "            style=\"display:none;\">\n",
              "\n",
              "<svg xmlns=\"http://www.w3.org/2000/svg\" height=\"24px\"viewBox=\"0 0 24 24\"\n",
              "     width=\"24px\">\n",
              "    <g>\n",
              "        <path d=\"M19 3H5c-1.1 0-2 .9-2 2v14c0 1.1.9 2 2 2h14c1.1 0 2-.9 2-2V5c0-1.1-.9-2-2-2zM9 17H7v-7h2v7zm4 0h-2V7h2v10zm4 0h-2v-4h2v4z\"/>\n",
              "    </g>\n",
              "</svg>\n",
              "  </button>\n",
              "\n",
              "<style>\n",
              "  .colab-df-quickchart {\n",
              "      --bg-color: #E8F0FE;\n",
              "      --fill-color: #1967D2;\n",
              "      --hover-bg-color: #E2EBFA;\n",
              "      --hover-fill-color: #174EA6;\n",
              "      --disabled-fill-color: #AAA;\n",
              "      --disabled-bg-color: #DDD;\n",
              "  }\n",
              "\n",
              "  [theme=dark] .colab-df-quickchart {\n",
              "      --bg-color: #3B4455;\n",
              "      --fill-color: #D2E3FC;\n",
              "      --hover-bg-color: #434B5C;\n",
              "      --hover-fill-color: #FFFFFF;\n",
              "      --disabled-bg-color: #3B4455;\n",
              "      --disabled-fill-color: #666;\n",
              "  }\n",
              "\n",
              "  .colab-df-quickchart {\n",
              "    background-color: var(--bg-color);\n",
              "    border: none;\n",
              "    border-radius: 50%;\n",
              "    cursor: pointer;\n",
              "    display: none;\n",
              "    fill: var(--fill-color);\n",
              "    height: 32px;\n",
              "    padding: 0;\n",
              "    width: 32px;\n",
              "  }\n",
              "\n",
              "  .colab-df-quickchart:hover {\n",
              "    background-color: var(--hover-bg-color);\n",
              "    box-shadow: 0 1px 2px rgba(60, 64, 67, 0.3), 0 1px 3px 1px rgba(60, 64, 67, 0.15);\n",
              "    fill: var(--button-hover-fill-color);\n",
              "  }\n",
              "\n",
              "  .colab-df-quickchart-complete:disabled,\n",
              "  .colab-df-quickchart-complete:disabled:hover {\n",
              "    background-color: var(--disabled-bg-color);\n",
              "    fill: var(--disabled-fill-color);\n",
              "    box-shadow: none;\n",
              "  }\n",
              "\n",
              "  .colab-df-spinner {\n",
              "    border: 2px solid var(--fill-color);\n",
              "    border-color: transparent;\n",
              "    border-bottom-color: var(--fill-color);\n",
              "    animation:\n",
              "      spin 1s steps(1) infinite;\n",
              "  }\n",
              "\n",
              "  @keyframes spin {\n",
              "    0% {\n",
              "      border-color: transparent;\n",
              "      border-bottom-color: var(--fill-color);\n",
              "      border-left-color: var(--fill-color);\n",
              "    }\n",
              "    20% {\n",
              "      border-color: transparent;\n",
              "      border-left-color: var(--fill-color);\n",
              "      border-top-color: var(--fill-color);\n",
              "    }\n",
              "    30% {\n",
              "      border-color: transparent;\n",
              "      border-left-color: var(--fill-color);\n",
              "      border-top-color: var(--fill-color);\n",
              "      border-right-color: var(--fill-color);\n",
              "    }\n",
              "    40% {\n",
              "      border-color: transparent;\n",
              "      border-right-color: var(--fill-color);\n",
              "      border-top-color: var(--fill-color);\n",
              "    }\n",
              "    60% {\n",
              "      border-color: transparent;\n",
              "      border-right-color: var(--fill-color);\n",
              "    }\n",
              "    80% {\n",
              "      border-color: transparent;\n",
              "      border-right-color: var(--fill-color);\n",
              "      border-bottom-color: var(--fill-color);\n",
              "    }\n",
              "    90% {\n",
              "      border-color: transparent;\n",
              "      border-bottom-color: var(--fill-color);\n",
              "    }\n",
              "  }\n",
              "</style>\n",
              "\n",
              "  <script>\n",
              "    async function quickchart(key) {\n",
              "      const quickchartButtonEl =\n",
              "        document.querySelector('#' + key + ' button');\n",
              "      quickchartButtonEl.disabled = true;  // To prevent multiple clicks.\n",
              "      quickchartButtonEl.classList.add('colab-df-spinner');\n",
              "      try {\n",
              "        const charts = await google.colab.kernel.invokeFunction(\n",
              "            'suggestCharts', [key], {});\n",
              "      } catch (error) {\n",
              "        console.error('Error during call to suggestCharts:', error);\n",
              "      }\n",
              "      quickchartButtonEl.classList.remove('colab-df-spinner');\n",
              "      quickchartButtonEl.classList.add('colab-df-quickchart-complete');\n",
              "    }\n",
              "    (() => {\n",
              "      let quickchartButtonEl =\n",
              "        document.querySelector('#df-6cc0202d-80a3-4e2d-a81d-bcf4ae9302d9 button');\n",
              "      quickchartButtonEl.style.display =\n",
              "        google.colab.kernel.accessAllowed ? 'block' : 'none';\n",
              "    })();\n",
              "  </script>\n",
              "</div>\n",
              "\n",
              "    </div>\n",
              "  </div>\n"
            ],
            "application/vnd.google.colaboratory.intrinsic+json": {
              "type": "dataframe",
              "variable_name": "df_movie_new"
            }
          },
          "metadata": {},
          "execution_count": 40
        }
      ]
    },
    {
      "cell_type": "code",
      "source": [
        "#'averageRating' is the target variable, []'tconst', 'startYear', 'titleType'] are the other extra features\n",
        "X_new = df_movie_new.drop(columns=['averageRating', 'tconst', 'startYear', 'titleType'])\n",
        "y_new = df_movie_new['averageRating']"
      ],
      "metadata": {
        "id": "JJThkKmq4nwc"
      },
      "execution_count": null,
      "outputs": []
    },
    {
      "cell_type": "code",
      "source": [
        "from sklearn.model_selection import train_test_split\n",
        "\n",
        "# Split the data into train and temp sets (60% train, 40% temp)\n",
        "X_train1, X_temp1, y_train1, y_temp1 = train_test_split(X_new, y_new, test_size=0.4, random_state=50)\n",
        "\n",
        "# Split the temp set into test and validation sets (50% test, 50% validation)\n",
        "X_test1, X_val1, y_test1, y_val1 = train_test_split(X_temp1, y_temp1, test_size=0.5, random_state=50)\n",
        "\n",
        "# train, test, and validation sets\n",
        "# 60-20-20 split"
      ],
      "metadata": {
        "id": "KAtu0Prf4I7s"
      },
      "execution_count": null,
      "outputs": []
    },
    {
      "cell_type": "code",
      "source": [
        "max_depth = [int(x) for x in np.linspace(6, 20, num = 10)]\n",
        "max_features = [x for x in np.linspace(0.1, 1, num = 10)]\n",
        "min_samples_leaf = [int(x) for x in np.linspace(1, 60, num = 10)]"
      ],
      "metadata": {
        "id": "4VQml3AV3IWN"
      },
      "execution_count": null,
      "outputs": []
    },
    {
      "cell_type": "code",
      "source": [
        "random_grid = {'max_features': max_features,\n",
        "               'max_depth': max_depth,\n",
        "               'min_samples_leaf': min_samples_leaf}"
      ],
      "metadata": {
        "id": "Rk3sQ_dC3TMX"
      },
      "execution_count": null,
      "outputs": []
    },
    {
      "cell_type": "code",
      "source": [
        "rf = RandomForestRegressor()\n",
        "rf_random = RandomizedSearchCV(estimator = rf, param_distributions = random_grid, n_iter = 100,\n",
        "                               cv = kf, verbose=2, random_state=50, n_jobs = -1)"
      ],
      "metadata": {
        "id": "Ol5L4Mpd3UnU"
      },
      "execution_count": null,
      "outputs": []
    },
    {
      "cell_type": "markdown",
      "source": [
        "Optimising parameters in Random Forest via Randomized search which searches samples them randomly from a distribution, instead of over a pre-defined grid of hyperparameters."
      ],
      "metadata": {
        "id": "EJH6eG9o6OJ8"
      }
    },
    {
      "cell_type": "code",
      "source": [
        "# This execution could not be completed\n",
        "rf_random.fit(X_train1, y_train1)\n",
        "\n",
        "# Information on these two below would have helped build a (possibly) better model\n",
        "rf_random.best_estimator_\n",
        "\n",
        "rf_random.best_score_"
      ],
      "metadata": {
        "id": "bShczFYm3nNF"
      },
      "execution_count": null,
      "outputs": []
    },
    {
      "cell_type": "markdown",
      "source": [
        "## **Comparing the distribution of predicted Y's in different models**\n",
        "\n",
        "The predicted Y values from Random Forest model are very close to the true distribution of Y values in the validation set. Based on previous mse from previous lines of code, and this distribution, Random Forest seem to be the best model to predict movie ratings based on the existing feature set."
      ],
      "metadata": {
        "id": "Dsyt6tSqHsaw"
      }
    },
    {
      "cell_type": "code",
      "source": [
        "# Plot individual histograms of y_pred_ln vs. y_val\n",
        "# Plot histogram of predicted ratings y_pred_ln from Linear Regression\n",
        "plt.hist(y_pred_ln, bins=200, color='skyblue', edgecolor='black')\n",
        "plt.title('Histogram of Predicted Ratings (Linear Regression)')\n",
        "plt.xlabel('Predicted Ratings')\n",
        "plt.ylabel('Frequency')\n",
        "\n",
        "plt.xlim(0, 10)\n",
        "\n",
        "plt.grid(True)\n",
        "plt.show()"
      ],
      "metadata": {
        "colab": {
          "base_uri": "https://localhost:8080/",
          "height": 472
        },
        "id": "acpTWk5w7Wpd",
        "outputId": "d8cd9624-bcf9-45c0-ebd5-81ca767abbf3"
      },
      "execution_count": null,
      "outputs": [
        {
          "output_type": "display_data",
          "data": {
            "text/plain": [
              "<Figure size 640x480 with 1 Axes>"
            ],
            "image/png": "[encoded data removed]"
          },
          "metadata": {}
        }
      ]
    },
    {
      "cell_type": "code",
      "source": [
        "# Plot individual histograms of y_pred_ln vs. y_val\n",
        "# Plot histogram of predicted ratings y_pred_ln from Linear Regression\n",
        "plt.hist(y_pred_xgb, bins=200, color='skyblue', edgecolor='black')\n",
        "plt.title('Histogram of Predicted Ratings (XGBoost)')\n",
        "plt.xlabel('Predicted Ratings')\n",
        "plt.ylabel('Frequency')\n",
        "\n",
        "plt.xlim(0, 10)\n",
        "\n",
        "plt.grid(True)\n",
        "plt.show()"
      ],
      "metadata": {
        "colab": {
          "base_uri": "https://localhost:8080/",
          "height": 472
        },
        "id": "bQMBiVVpKDI5",
        "outputId": "d00cb656-5315-436e-8c7a-f268553c0326"
      },
      "execution_count": null,
      "outputs": [
        {
          "output_type": "display_data",
          "data": {
            "text/plain": [
              "<Figure size 640x480 with 1 Axes>"
            ],
            "image/png": "[encoded data removed]"
          },
          "metadata": {}
        }
      ]
    },
    {
      "cell_type": "code",
      "source": [
        "# Plot individual histograms of y_pred_rf vs. y_val\n",
        "# Plot histogram of predicted ratings y_pred_rf from Random Forest\n",
        "plt.hist(y_pred_rf, bins=200, color='skyblue', edgecolor='black')\n",
        "plt.title('Histogram of Predicted Ratings (Random Forest)')\n",
        "plt.xlabel('Predicted Ratings')\n",
        "plt.ylabel('Frequency')\n",
        "\n",
        "plt.xlim(0, 10)\n",
        "\n",
        "plt.grid(True)\n",
        "plt.show()"
      ],
      "metadata": {
        "colab": {
          "base_uri": "https://localhost:8080/",
          "height": 472
        },
        "id": "o9gjbnQnC_Xg",
        "outputId": "d34bb794-d177-4e62-fd17-bbdd1190096a"
      },
      "execution_count": null,
      "outputs": [
        {
          "output_type": "display_data",
          "data": {
            "text/plain": [
              "<Figure size 640x480 with 1 Axes>"
            ],
            "image/png": "[encoded data removed]"
          },
          "metadata": {}
        }
      ]
    },
    {
      "cell_type": "code",
      "source": [
        "# Plot histogram of predicted ratings y_pred_ln from Linear Regression\n",
        "plt.hist(y_val, bins=200, color='skyblue', edgecolor='black')\n",
        "plt.title('Histogram of Actual Ratings')\n",
        "plt.xlabel('Predicted Ratings')\n",
        "plt.ylabel('Frequency')\n",
        "\n",
        "plt.xlim(0, 10)\n",
        "\n",
        "plt.grid(True)\n",
        "plt.show()"
      ],
      "metadata": {
        "colab": {
          "base_uri": "https://localhost:8080/",
          "height": 472
        },
        "id": "kOWTevgCCFTl",
        "outputId": "67fd3b55-1d5a-431f-f981-49484baaa9c2"
      },
      "execution_count": null,
      "outputs": [
        {
          "output_type": "display_data",
          "data": {
            "text/plain": [
              "<Figure size 640x480 with 1 Axes>"
            ],
            "image/png": "[encoded data removed]"
          },
          "metadata": {}
        }
      ]
    },
    {
      "cell_type": "markdown",
      "source": [
        "# Best Model Performance - Random Forest"
      ],
      "metadata": {
        "id": "rnU8XTzGjnBU"
      }
    },
    {
      "cell_type": "code",
      "source": [
        "# Testing Random Forest model performance on test set\n",
        "\n",
        "# Make predictions on the test set\n",
        "y_pred_rf_test = rf_model.predict(X_test)\n",
        "\n",
        "# Evaluate the model using Mean Squared Error (MSE)\n",
        "mse_rf_test = mean_squared_error(y_test, y_pred_rf_test)\n",
        "print(f'Mean Squared Error (MSE): {mse_rf_test}')\n",
        "\n",
        "root_mse_rf_test = np.sqrt(mse_rf_test)\n",
        "print(f'Root Mean Squared Error (RMSE): {root_mse_rf_test}')"
      ],
      "metadata": {
        "colab": {
          "base_uri": "https://localhost:8080/"
        },
        "id": "XrUMLUjlCByu",
        "outputId": "c29bb020-db9f-424b-e8f3-f6163d4ce08b"
      },
      "execution_count": null,
      "outputs": [
        {
          "output_type": "stream",
          "name": "stdout",
          "text": [
            "Mean Squared Error (MSE): 1.062736288945749\n",
            "Root Mean Squared Error (RMSE): 1.0308910170070107\n"
          ]
        }
      ]
    },
    {
      "cell_type": "markdown",
      "source": [
        "The MSE obtained by the fitted random forest model on the test set is just slightly higher (by 0.01 only) than the MSE obtained on the validation set. It is lower than the MSE by the other two models on the validation set. Moreover, the distribution of predicted Y values is very close to the actualy distribution, using random forest model."
      ],
      "metadata": {
        "id": "Qf7gtWOEl_V0"
      }
    }
  ]
}
